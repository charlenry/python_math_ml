{
 "cells": [
  {
   "cell_type": "markdown",
   "metadata": {},
   "source": [
    "<p align=\"center\"><font size=\"6\"><b>Notebook de Charles-Henri SAINT-MARS</b></font></p>"
   ]
  },
  {
   "cell_type": "markdown",
   "metadata": {},
   "source": [
    "# **Les statistiques descriptives et inférentielles**"
   ]
  },
  {
   "cell_type": "code",
   "execution_count": 2,
   "metadata": {},
   "outputs": [],
   "source": [
    "# importation des modules\n",
    "import numpy as np\n",
    "import statistics as stats\n",
    "import scipy.stats as scs\n",
    "import matplotlib.pyplot as plt\n",
    "import seaborn as sns"
   ]
  },
  {
   "cell_type": "markdown",
   "metadata": {},
   "source": [
    "## Statistiques descriptives : Moyenne, médiane, variance et écart-type"
   ]
  },
  {
   "cell_type": "markdown",
   "metadata": {},
   "source": [
    "### Tableau de valeurs"
   ]
  },
  {
   "cell_type": "code",
   "execution_count": 3,
   "metadata": {},
   "outputs": [
    {
     "data": {
      "text/plain": [
       "array([-0.82977995,  2.20324493, -4.99885625, -1.97667427, -3.53244109,\n",
       "       -4.07661405, -3.13739789, -1.54439273, -1.03232526,  0.38816734,\n",
       "       -0.80805486,  1.852195  , -2.9554775 ,  3.78117436, -4.72612407,\n",
       "        1.7046751 , -0.82695198,  0.58689828, -3.59613061, -3.01898511,\n",
       "        3.00744569,  4.68261576, -1.86575822,  1.92322616,  3.76389152,\n",
       "        3.94606664, -4.14955789, -4.60945217, -3.3016958 ,  3.78142503,\n",
       "       -4.01653166, -0.78892375,  4.5788953 ,  0.33165285,  1.91877114,\n",
       "       -1.84484369,  1.86500928,  3.34625672, -4.81711723,  2.50144315,\n",
       "        4.88861089,  2.48165654, -2.19556008,  2.89279328, -3.96773993,\n",
       "       -0.52106474,  4.08595503, -2.06385852, -2.12224661, -3.69971428,\n",
       "       -4.80633042,  1.78835533, -2.88371884, -2.34453341, -0.08426841,\n",
       "       -4.46637455,  0.74117605, -3.53271425,  0.89305537,  1.9975836 ,\n",
       "       -3.97665571, -0.85944012,  1.94400158, -0.8582073 , -4.50046541,\n",
       "        0.35896406,  1.63794645,  0.14889112,  4.44594756,  0.86555041,\n",
       "        4.03401915, -3.62525296, -3.60723653,  3.07391289, -1.02323163,\n",
       "       -3.34645803,  4.2750858 , -1.5223414 ,  2.50812103,  2.25997985,\n",
       "        3.83306091,  1.23672207,  2.50942434, -1.51101658, -2.30072108,\n",
       "        3.95886218, -0.7190881 ,  4.64840047,  1.63441498,  1.2169572 ,\n",
       "       -3.85254027,  4.49489259, -0.50087867,  0.78389614, -0.91863197,\n",
       "       -2.6297302 ,  4.03379521,  0.73679487, -4.97129673,  1.17144914,\n",
       "       -1.73355098])"
      ]
     },
     "execution_count": 3,
     "metadata": {},
     "output_type": "execute_result"
    }
   ],
   "source": [
    "np.random.seed(1)\n",
    "data = np.random.uniform(low=-5, high=5, size=101) # 101 valeurs aléatoires entre -5 et 5\n",
    "data"
   ]
  },
  {
   "cell_type": "markdown",
   "metadata": {},
   "source": [
    "### Moyenne"
   ]
  },
  {
   "cell_type": "markdown",
   "metadata": {},
   "source": [
    "La moyenne est la somme de toutes les valeurs divisée par le nombre total de valeurs."
   ]
  },
  {
   "cell_type": "code",
   "execution_count": 4,
   "metadata": {},
   "outputs": [
    {
     "name": "stdout",
     "output_type": "stream",
     "text": [
      "Nombre de valeurs :  101\n",
      "Somme des valeurs :  -15.855623382133416\n",
      "Moyenne sans numpy :  -0.15698637012013283\n",
      "Moyenne avec numpy :  -0.15698637012013283\n"
     ]
    }
   ],
   "source": [
    "# Moyenne\n",
    "nombre_valeurs = len(data)\n",
    "print(\"Nombre de valeurs : \", nombre_valeurs)\n",
    "somme_valeurs = data.sum()\n",
    "print(\"Somme des valeurs : \", somme_valeurs)\n",
    "moyenne = somme_valeurs / nombre_valeurs\n",
    "print(\"Moyenne sans numpy : \", moyenne)\n",
    "print(\"Moyenne avec numpy : \", np.mean(data)) # ou data.mean()"
   ]
  },
  {
   "cell_type": "markdown",
   "metadata": {},
   "source": [
    "### Mediane"
   ]
  },
  {
   "cell_type": "markdown",
   "metadata": {},
   "source": [
    "La médiane est la valeur qui sépare la moitié supérieure de la moitié inférieure d'un ensemble de données. C'est une mesure de position centrale. Elle est moins sensible aux valeurs extrêmes que la moyenne. Pour trouver la médiane, les données doivent être triées par ordre croissant. Si le nombre de données est impair, la médiane est la valeur du milieu. Si le nombre de données est pair, la médiane est la moyenne des deux valeurs du milieu. Au moins 50% des valeurs sont inférieures ou égales à la médiane. <br>\n",
    "La médiane est souvent utilisée comme une meilleure mesure de la \"valeur typique\" que la moyenne, surtout lorsque les données sont fortement asymétriques."
   ]
  },
  {
   "cell_type": "code",
   "execution_count": 5,
   "metadata": {},
   "outputs": [
    {
     "name": "stdout",
     "output_type": "stream",
     "text": [
      "Médiane sans numpy :  -0.5008786652005952\n",
      "Médiane avec numpy :  -0.5008786652005952\n"
     ]
    }
   ],
   "source": [
    "data.sort() # tri des valeurs en ordre croissant pour calculer la médiane \n",
    "print(\"Médiane sans numpy : \", data[50])\n",
    "print(\"Médiane avec numpy : \", np.median(data))"
   ]
  },
  {
   "cell_type": "code",
   "execution_count": 6,
   "metadata": {},
   "outputs": [
    {
     "name": "stdout",
     "output_type": "stream",
     "text": [
      "[15 14 13 12 11 10  9  8  7  6  5  4  3  2  1]\n"
     ]
    }
   ],
   "source": [
    "# Remarque : tri en ordre décroissant d'un ndarray\n",
    "data2 = np.array([12,2,5,14,8,7,9,3,15,6,11,4,10,13,1])\n",
    "data2 = np.sort(data2)[::-1]\n",
    "print(data2)"
   ]
  },
  {
   "cell_type": "code",
   "execution_count": 7,
   "metadata": {},
   "outputs": [
    {
     "name": "stdout",
     "output_type": "stream",
     "text": [
      "Indices du tri [5 7 4 2 0 6 3 1]\n",
      "[9 6 5 4 3 2 1 1]\n"
     ]
    }
   ],
   "source": [
    "# Créer un tableau NumPy à trier en ordre décroissant\n",
    "tableau = np.array([3, 1, 4, 1, 5, 9, 2, 6])\n",
    "\n",
    "# Obtenir les indices triés en ordre décroissant\n",
    "indices_trie = np.argsort(tableau)[::-1]\n",
    "print(\"Indices du tri\", indices_trie)\n",
    "\n",
    "# Appliquer ces indices au tableau d'origine\n",
    "tableau_trie = tableau[indices_trie] # tri en ordre décroissant\n",
    "\n",
    "print(tableau_trie)"
   ]
  },
  {
   "cell_type": "code",
   "execution_count": 8,
   "metadata": {},
   "outputs": [],
   "source": [
    "bank_accounts = np.array([1000, 2000, 100000000, 5000, 100000000000])"
   ]
  },
  {
   "cell_type": "code",
   "execution_count": 9,
   "metadata": {},
   "outputs": [
    {
     "data": {
      "text/plain": [
       "5000.0"
      ]
     },
     "execution_count": 9,
     "metadata": {},
     "output_type": "execute_result"
    }
   ],
   "source": [
    "np.median(bank_accounts) # médiane"
   ]
  },
  {
   "cell_type": "markdown",
   "metadata": {},
   "source": [
    "### Mode"
   ]
  },
  {
   "cell_type": "markdown",
   "metadata": {},
   "source": [
    "Le mode est la valeur qui apparaît le plus souvent dans un ensemble de données. Il est possible d'avoir plusieurs modes (ensemble de données bimodal) ou aucun mode (ensemble de données uniforme). Le mode est souvent utilisé pour les données qualitatives."
   ]
  },
  {
   "cell_type": "code",
   "execution_count": 10,
   "metadata": {},
   "outputs": [
    {
     "name": "stdout",
     "output_type": "stream",
     "text": [
      "Mode avec statistics :  -4.998856251826551\n",
      "Mode avec scipy :  -4.998856251826551\n"
     ]
    }
   ],
   "source": [
    "# Calcul du mode\n",
    "print(\"Mode avec statistics : \", stats.mode(data))\n",
    "\n",
    "mode = scs.mode(data)\n",
    "print(\"Mode avec scipy : \", mode[0])"
   ]
  },
  {
   "cell_type": "markdown",
   "metadata": {},
   "source": [
    "### Variance"
   ]
  },
  {
   "cell_type": "markdown",
   "metadata": {},
   "source": [
    "La variance est une mesure de la dispersion des valeurs d'un ensemble de données. Elle est calculée en prenant la moyenne des carrés des écarts par rapport à la moyenne. Une variance élevée indique que les valeurs sont très dispersées, tandis qu'une variance faible indique que les valeurs sont regroupées autour de la moyenne. `La variance est en unités au carré. Pour obtenir une mesure de dispersion dans les mêmes unités que les données, on utilise l'écart-type`."
   ]
  },
  {
   "cell_type": "code",
   "execution_count": 11,
   "metadata": {},
   "outputs": [
    {
     "name": "stdout",
     "output_type": "stream",
     "text": [
      "Variance sans numpy :  8.606269185573993\n",
      "Variance avec numpy :  8.606269185573993\n"
     ]
    }
   ],
   "source": [
    "moyenne = np.mean(data) \n",
    "variance = ((data - moyenne) ** 2).sum() / nombre_valeurs\n",
    "print(\"Variance sans numpy : \", variance)\n",
    "print(\"Variance avec numpy : \", np.var(data)) # ou data.var()"
   ]
  },
  {
   "cell_type": "markdown",
   "metadata": {},
   "source": [
    "### Ecart-type (σ)"
   ]
  },
  {
   "cell_type": "markdown",
   "metadata": {},
   "source": [
    "L'écart-type est la racine carrée de la variance. Il est souvent utilisé pour mesurer la dispersion des valeurs autour de la moyenne. L'écart-type est en unités de données. Plus l'écart-type est grand, plus les valeurs sont dispersées autour de la moyenne.<br\n",
    "Quelques propriétés de l'écart-type :\n",
    "- L'écart-type est toujours positif.\n",
    "- Si toutes les valeurs d'un ensemble de données sont multipliées par un facteur constant, l'écart-type est également multiplié par ce facteur.\n",
    "- L'écart-type est nul si et seulement si toutes les valeurs d'un ensemble de données sont égales."
   ]
  },
  {
   "cell_type": "code",
   "execution_count": 12,
   "metadata": {},
   "outputs": [
    {
     "name": "stdout",
     "output_type": "stream",
     "text": [
      "Ecart-type sans numpy :  2.9336443522646016\n",
      "Ecart-type avec numpy :  2.9336443522646016\n"
     ]
    }
   ],
   "source": [
    "ecart_type = np.sqrt(variance)\n",
    "print(\"Ecart-type sans numpy : \", ecart_type)\n",
    "print(\"Ecart-type avec numpy : \", np.std(data)) # ou data.std()"
   ]
  },
  {
   "cell_type": "markdown",
   "metadata": {},
   "source": [
    "## Statistiques inférentielles : Corolaire de l'inégalité de Tchebychev et loi normale"
   ]
  },
  {
   "cell_type": "markdown",
   "metadata": {},
   "source": [
    "### Coloraire de l'inégalité de Tchebychev"
   ]
  },
  {
   "cell_type": "markdown",
   "metadata": {},
   "source": [
    "- Pour une distribution dite normale, environ `68,27%` des valeurs se situent à moins `d'un écart-type (1σ)`  de la moyenne, `95,45%` à moins de `deux écarts-types (2σ)` de la moyenne et `99,73%` à moins de `trois écarts-types (3σ)` de la moyenne. C'est ce qu'on appelle la `règle empirique` à savoir `68-95-99.7`.\n",
    "- Plus généralement, quelque soit la distribution, `l'inégalité de Tchebychev` permet de dire qu'`au moins 75% des données` se situent `dans un intervalle de deux écarts-types (2𝜎)`  autour de la moyenne et qu'`au moins 88,9% des données` se situent `dans un intervalle de trois écarts-types (3𝜎)` autour de la moyenne."
   ]
  },
  {
   "cell_type": "markdown",
   "metadata": {},
   "source": [
    "### Loi Normale (ou distribution gaussienne)"
   ]
  },
  {
   "cell_type": "markdown",
   "metadata": {},
   "source": [
    "La loi normale est une distribution de probabilité continue qui est symétrique et **en forme de cloche**. Elle est caractérisée par sa moyenne et son écart-type. La loi normale est également appelée distribution gaussienne en l'honneur du mathématicien Carl Friedrich Gauss. La loi normale est importante en statistique car de nombreux phénomènes naturels et mesures humaines suivent une distribution normale. La loi normale est également importante en raison de la `règle empirique` qui stipule que `68,27%` des valeurs se situent à moins d'un écart-type `(1σ)` de la moyenne, `95,45%` à moins de deux écarts-types `(2σ)` de la moyenne et `99,73%` à moins de trois écarts-types `(3σ)` de la moyenne.\n",
    "\n",
    "- La moyenne d'une distribution normale est de 0\n",
    "- La variance d'une distribution normale est de 1\n",
    "- L'écart-type d'une distribution normale est de 1\n"
   ]
  },
  {
   "cell_type": "code",
   "execution_count": 13,
   "metadata": {},
   "outputs": [
    {
     "data": {
      "text/plain": [
       "array([ 1.01037548e+00,  7.08366439e-02,  7.17589826e-01, -2.50704910e-01,\n",
       "       -5.15299278e-02,  1.31289070e-02,  2.02239055e-01,  4.54952242e-01,\n",
       "       -3.99268172e-01,  1.81067417e-01,  8.07487950e-01,  8.12535189e-01,\n",
       "        2.10902031e-01,  4.21779155e-01,  5.81925184e-01, -4.10207518e-01,\n",
       "        2.29686610e+00,  1.68849705e+00,  6.25811471e-01, -1.61136381e+00,\n",
       "        6.00977379e-02,  4.62420790e-01,  6.84836490e-01, -5.95460330e-01,\n",
       "        9.99051240e-01, -3.08170741e-01,  3.65838343e-01,  1.60750704e+00,\n",
       "       -2.38177368e-01, -3.40828283e-01,  4.87594206e-01,  1.73907303e+00,\n",
       "        6.89698049e-02,  4.73241391e-01, -6.50355022e-01, -7.79106955e-01,\n",
       "       -7.77662709e-01,  6.22562797e-01,  4.27562074e-01,  7.40096006e-02,\n",
       "       -4.53168603e-01,  6.04153641e-01,  2.38520581e+00, -1.23883329e-01,\n",
       "       -3.24193673e-01,  3.10754231e-01,  2.46162831e+00, -3.16123687e-01,\n",
       "       -1.81506277e+00,  6.84249500e-01,  3.20325282e-02,  1.96270208e-01,\n",
       "        9.07451161e-01, -2.13483482e+00,  8.16847176e-01,  1.18417131e+00,\n",
       "       -2.04480564e-01, -1.10844461e-01,  1.41448273e+00, -1.41664500e+00,\n",
       "        6.73513457e-01, -7.72294423e-01, -9.38770353e-02, -1.69774023e-01,\n",
       "       -5.41144631e-01,  5.37947613e-01,  3.91282655e-01,  2.21191487e+00,\n",
       "       -1.62244626e-01,  2.91178158e-01,  1.08062655e-01, -1.99532915e-01,\n",
       "        2.32832299e-01,  1.55393264e-01,  5.93725153e-01, -1.35055772e+00,\n",
       "        8.30564670e-01,  1.13218040e-01, -1.24274572e+00,  1.59948307e+00,\n",
       "        2.47441941e+00, -3.32324847e-01,  7.77146519e-01,  9.03511798e-02,\n",
       "       -1.86597474e-01,  7.43258569e-01, -4.19178066e-01,  4.96045706e-03,\n",
       "       -8.33557266e-01, -3.79358891e-01, -5.43622490e-01,  1.08361763e+00,\n",
       "        1.21806086e-01,  6.53640257e-01, -8.91549477e-02,  9.00871646e-01,\n",
       "        1.40248666e+00,  2.17682550e-01, -8.35994580e-02, -1.83797562e+00,\n",
       "       -2.06062412e-01,  4.21554422e-02, -1.40456061e+00,  1.97969053e+00,\n",
       "       -5.94019420e-01,  9.88216440e-01,  1.83104069e-01,  9.23992993e-01,\n",
       "        5.33171983e-01, -5.85133038e-01, -5.60536918e-01,  1.40773181e-01,\n",
       "        1.76760095e+00, -7.87773741e-01, -6.17220658e-02,  2.38426792e-01,\n",
       "        7.47724499e-02,  3.38304765e-01,  2.78076626e-01,  1.22396588e+00,\n",
       "       -1.43049861e+00,  8.54442902e-01,  1.50685064e+00,  5.23333941e-01,\n",
       "        4.15311254e-01,  5.83387534e-01,  7.59462637e-01,  4.12690176e-01,\n",
       "        1.16783683e+00, -1.21248978e+00, -2.15670526e+00, -8.98667624e-01,\n",
       "       -1.70673775e+00, -1.54507707e+00,  1.00739253e+00, -1.50891570e+00,\n",
       "        4.10770953e-01, -6.04733419e-02, -1.02896049e+00,  6.06940331e-01,\n",
       "       -1.86645046e+00, -8.73320466e-01,  2.95563293e-01,  2.31503950e-01,\n",
       "        2.78034080e-01,  6.90031686e-01, -9.17976037e-01, -8.51837416e-01,\n",
       "        9.07585717e-02,  1.16220247e+00,  3.21782472e-01,  1.34131783e+00,\n",
       "        1.41675184e-01,  1.73738467e+00,  3.75768777e-01,  1.47825568e+00,\n",
       "       -2.08016719e+00, -4.53427565e-01, -1.78994620e-01, -6.33116395e-01,\n",
       "        4.74627168e-01, -4.84563014e-01,  3.75884436e-01,  7.48048476e-01,\n",
       "       -1.18845766e+00,  2.43611235e-01, -2.09724060e+00, -4.48630634e-01,\n",
       "        4.70559593e-01, -1.39857823e+00,  5.48882898e-01, -2.47515015e-01,\n",
       "       -2.25127476e-01,  3.79691880e-01, -1.15694754e-01, -1.46620101e-01,\n",
       "        1.76939854e+00, -3.21878358e-03, -6.66460132e-01, -7.71836011e-01,\n",
       "       -2.64960679e-01,  1.10728223e+00, -1.34873652e+00,  5.90902752e-01,\n",
       "        3.79550710e-02, -9.52724019e-01, -1.20102365e+00, -7.90439789e-02,\n",
       "        7.89893345e-01,  2.18617751e+00, -9.26690996e-01,  4.01845265e-01,\n",
       "       -7.95893042e-01,  7.20232488e-01,  1.49161166e+00,  1.01177037e-01,\n",
       "        1.09823813e+00,  1.15155406e-01,  1.32243076e+00,  9.83158730e-01,\n",
       "        1.25718996e+00,  4.62572041e-01, -9.15033222e-01,  8.82388475e-01,\n",
       "        7.35969849e-01, -1.35136197e+00,  1.12422540e+00, -5.86403112e-01,\n",
       "        1.45999738e+00, -2.78077889e-01,  4.36612771e-01,  3.82216401e-02,\n",
       "        1.49007700e+00,  2.59779071e+00, -3.62915614e-01, -9.16934497e-01,\n",
       "        9.54016382e-01, -3.51376813e-01,  1.10089616e+00,  1.11090279e+00,\n",
       "       -2.47864187e-01, -1.32842466e+00,  1.65363153e-01,  2.75443598e-02,\n",
       "       -6.49903769e-01, -7.62812359e-01,  8.82365163e-01, -8.38822246e-01,\n",
       "       -6.78530900e-01, -6.58892111e-02, -1.48403655e+00,  4.38773070e-02,\n",
       "       -6.41334166e-01,  9.44917401e-01,  7.52543854e-02, -3.80485789e-01,\n",
       "       -3.68750377e-01,  1.06561739e+00,  7.41526743e-02,  1.66294467e+00,\n",
       "        5.65754326e-01,  5.04286679e-02, -3.05173199e-01,  1.82577378e+00,\n",
       "       -3.62193860e-01, -2.01576670e-01, -9.42655570e-01, -1.72099969e-01,\n",
       "        1.17422741e+00,  5.18531830e-01,  1.03268739e+00,  7.63428634e-01,\n",
       "        9.53263946e-01, -4.34240750e-01,  1.25111407e+00, -2.75048374e-01,\n",
       "       -9.95240965e-01,  3.53063086e-01, -7.08728983e-02, -7.41436089e-01,\n",
       "       -5.88525046e-01,  1.42646743e+00, -3.13786944e-01,  1.62802382e+00,\n",
       "       -1.19750486e+00, -2.72586394e+00,  1.40434749e+00, -1.20421948e-01,\n",
       "        8.32228148e-01, -2.00727627e-01,  2.96724191e-01, -9.37287275e-01,\n",
       "        2.10112800e-02, -2.66336975e-01, -3.71815125e-01, -4.07407300e-01,\n",
       "        7.78034099e-01,  2.34854014e-01,  4.30095328e-01,  2.43581549e-01,\n",
       "       -1.46359705e+00, -5.79977243e-01, -3.61645939e-01,  3.20079016e-01,\n",
       "        7.73884011e-01, -5.71647118e-01,  2.47508552e-01, -1.71629052e+00,\n",
       "        5.87072919e-01, -2.65162116e-01, -9.80281604e-01, -1.96983363e+00,\n",
       "        7.20758862e-01,  2.01876051e-02, -2.03073607e+00,  2.57342766e-01,\n",
       "        1.80871222e-01,  1.11116037e+00, -4.65621133e-01,  1.87869970e+00,\n",
       "       -1.43708227e+00,  8.78455825e-01,  2.54625357e-02, -1.62765646e-01,\n",
       "        1.79732556e-01, -1.96261300e+00, -1.42369198e-01,  8.06299856e-01,\n",
       "       -6.83928129e-01, -1.34230444e+00, -1.80724182e-01, -1.19206974e-01,\n",
       "       -7.25790592e-01, -1.06622357e+00,  3.84885498e-01, -1.16885828e+00,\n",
       "        1.25297679e+00, -3.42259203e-01,  5.81591594e-01, -9.07116413e-01,\n",
       "        4.31429744e-01, -1.50929239e+00, -4.86332931e-01, -1.65770661e-01,\n",
       "        6.99048210e-01, -1.15520637e+00,  3.57335907e+00, -5.16744430e-01,\n",
       "        2.71000114e-01, -1.24655045e+00,  3.39427099e-01,  6.72969781e-02,\n",
       "        2.02806060e-01,  8.51805104e-01, -8.08039697e-02, -7.27615119e-01,\n",
       "        2.54829012e-01, -6.67777766e-02,  6.42774661e-01,  5.30246773e-01,\n",
       "        1.44613141e+00,  1.13658952e+00, -3.19002247e-01, -1.51471314e-02,\n",
       "       -1.19109333e-01, -2.20836387e+00, -2.36615707e-01,  1.73542616e+00,\n",
       "       -1.11512167e+00, -1.31089751e-01, -6.60480310e-01, -1.14562293e+00,\n",
       "        1.62918731e+00,  1.52736704e-01, -1.05828522e+00, -1.01948485e-01,\n",
       "        4.77197866e-02, -1.97987568e+00,  1.11861489e+00,  7.19859783e-01,\n",
       "        1.37751003e+00,  8.47969274e-02, -5.10796132e-01,  1.88009490e+00,\n",
       "        2.36726540e-01,  6.80179779e-01, -6.30402526e-03, -2.00299884e-01,\n",
       "        2.09813153e-01,  2.28177057e-01,  1.34103368e+00,  1.15154069e+00,\n",
       "       -1.62247894e+00,  5.63855976e-01,  1.89579139e+00,  6.68213932e-01,\n",
       "        9.43464398e-01, -3.91276814e-01,  6.19344838e-01, -7.63692140e-01,\n",
       "        9.64887279e-01, -7.41454208e-01,  1.31859127e+00, -3.09669871e-01,\n",
       "       -1.18283883e+00, -6.05101499e-01, -7.53974405e-01,  1.05313404e+00,\n",
       "        9.05864995e-01,  8.64260715e-01, -6.79682740e-01, -6.62364088e-01,\n",
       "       -3.97474857e-01, -3.34732221e-01, -2.87788777e-01, -7.47282050e-02,\n",
       "        3.26579877e-01, -7.27902435e-01, -7.08432028e-01, -6.50093566e-01,\n",
       "        2.33164307e-01,  4.60485591e-01, -1.83170831e+00,  5.04910343e-01,\n",
       "       -2.34664708e-01,  1.21461613e+00,  2.14181466e-01,  4.40163449e-01,\n",
       "       -1.07367517e+00, -6.31029339e-02, -3.16732875e-01, -1.36876034e+00,\n",
       "       -1.07811369e+00, -2.92375569e-01, -8.16589338e-01,  6.01627042e-01,\n",
       "        1.27578812e+00,  7.21887762e-01,  4.61212588e-01, -1.32152796e+00,\n",
       "        7.28535546e-01,  1.31207395e+00, -1.60805641e+00,  7.63680457e-01,\n",
       "        1.41899858e+00, -3.74327030e-01, -4.23317141e-01, -1.24186801e+00,\n",
       "       -4.86025934e-01, -2.31404238e-01, -2.46440010e-01,  7.67966704e-01,\n",
       "       -6.26864647e-01,  3.27056570e+00, -3.07040600e-01, -3.84748851e-01,\n",
       "        1.51891454e-02, -8.12619744e-01, -7.87802052e-01, -1.31421482e+00,\n",
       "        1.98609381e-01, -2.70705632e-01,  2.81247183e-01, -1.25402074e+00,\n",
       "        1.23125049e-01, -1.36959979e+00, -6.67418246e-01,  4.57716492e-01,\n",
       "       -1.46212022e+00,  2.63585484e-01,  8.04095427e-01,  9.34967036e-01,\n",
       "        2.56479127e-01, -2.29188082e-01, -2.08163865e+00,  1.26696681e+00,\n",
       "        8.05104488e-01,  9.60306431e-01,  4.34949454e-01,  6.80212162e-01,\n",
       "        1.86888402e+00,  1.50705284e-01, -5.68658083e-01,  1.27493789e+00,\n",
       "        7.50733465e-01,  8.09738523e-01, -1.43810487e+00,  1.65905261e+00,\n",
       "        3.11072572e-01,  2.15714494e-01, -4.74747842e-01, -3.26341235e-01,\n",
       "       -7.10116519e-01, -1.00367701e+00,  1.14247927e-01,  1.01375566e+00,\n",
       "       -7.20034693e-01, -4.24656445e-01,  8.20068833e-01, -1.51132290e+00,\n",
       "       -4.75107145e-01, -1.95950744e+00,  1.25764523e+00, -2.14182506e-01,\n",
       "       -1.86970888e+00, -8.92459222e-01, -1.09596716e+00,  6.88512671e-01,\n",
       "       -1.94725692e+00, -3.44324954e-01,  9.04958675e-01,  3.04215956e-01,\n",
       "        1.45531938e+00, -2.67629553e-01,  2.04670864e+00, -5.63778079e-01,\n",
       "       -1.92820909e-01, -1.05924133e+00,  2.04555630e-01,  7.93779528e-01,\n",
       "        2.79234375e-02,  1.58474465e+00,  1.22823695e+00, -6.96458019e-03,\n",
       "        1.21258512e-01, -7.15237659e-01,  2.80125696e-02,  6.94450393e-01,\n",
       "        4.16416505e-01, -3.65665637e-01,  8.41797687e-01, -1.04156690e+00,\n",
       "        6.42224910e-01,  5.76080399e-02,  1.07525473e+00,  3.95569068e-01,\n",
       "       -2.29341570e-01, -5.44483829e-01,  2.65660989e-01,  2.37358832e-01,\n",
       "       -1.60952126e+00, -3.96485889e-01, -1.03077561e-01,  1.40936416e+00,\n",
       "       -2.06106463e-02,  9.65268095e-01, -2.48730537e-01,  1.08966657e+00,\n",
       "       -9.05430659e-01,  1.62842650e+00, -1.38022720e+00,  2.55285300e-02,\n",
       "        1.38927074e+00,  3.04182668e-01,  1.46677410e+00,  3.55856729e-02,\n",
       "        1.01576500e+00,  7.15679419e-01,  1.73217737e+00, -1.09621414e+00,\n",
       "       -5.42127581e-01, -9.74252482e-01, -3.33968065e-01, -1.19676314e+00,\n",
       "       -5.24020891e-01, -1.45578944e+00,  9.95352296e-01, -3.47786945e-01,\n",
       "       -1.39161943e+00,  6.71134802e-01, -3.18617634e-01,  1.39139440e+00,\n",
       "       -1.38173594e+00, -1.16001878e+00, -1.07292381e+00,  9.15331226e-01,\n",
       "       -6.06948224e-01,  9.14013438e-01, -8.16656569e-01,  2.98315133e+00,\n",
       "        3.40276183e-01, -1.25832919e+00, -1.25379754e-01,  9.26582662e-01,\n",
       "       -2.04725979e-01,  3.90786616e-01,  1.58909065e+00,  9.47871113e-01,\n",
       "        6.62174421e-01, -1.25759497e-01,  1.16202567e+00, -6.52043199e-01,\n",
       "       -4.97530203e-01, -1.02392542e+00,  4.45773564e-01, -7.30859186e-01,\n",
       "        1.06475335e+00,  1.12581687e+00,  8.42583785e-01, -1.08018492e+00,\n",
       "       -4.01954426e-01, -1.45471366e+00, -1.46019604e+00, -1.29252962e+00,\n",
       "        1.61444428e-01, -5.42468640e-01,  8.31760063e-01,  1.51808832e+00,\n",
       "       -1.03740233e+00,  4.66158672e-01,  4.80970280e-02, -1.18945435e+00,\n",
       "       -1.76772177e-01,  2.09932307e-01, -2.39764329e+00, -1.25371414e+00,\n",
       "       -1.24909366e+00, -1.00034517e-02, -1.24846416e+00, -8.26085781e-01,\n",
       "        3.93839297e-01,  4.51793809e-01,  1.91598246e+00, -1.31343719e+00,\n",
       "        3.17692315e-02, -1.17163637e+00,  7.61399977e-01, -4.29873695e-01,\n",
       "        1.12064012e+00,  1.44073013e+00, -8.32785734e-02, -1.06249314e+00,\n",
       "       -9.79712687e-01,  4.08132050e-01,  9.26750029e-01,  1.96362569e+00,\n",
       "       -2.49523212e+00, -1.08648220e+00,  1.08514067e+00,  3.07802622e-01,\n",
       "        4.82542201e-01,  1.52691122e+00, -3.43950613e-01, -1.33802268e+00,\n",
       "        2.65257243e-01, -8.41843354e-01,  1.52443873e-01, -3.28800552e-01,\n",
       "       -1.09624336e+00,  1.52091795e+00,  5.93896902e-01, -7.49703817e-01,\n",
       "        1.11059155e+00, -6.00313952e-01,  3.06429461e+00, -1.44432760e+00,\n",
       "        6.90859577e-02, -2.25849026e-01, -1.21394405e+00, -6.69490457e-01,\n",
       "       -1.99541692e+00, -1.12249958e+00,  3.98798415e-01, -2.51272184e-02,\n",
       "        1.25599274e+00, -6.20750251e-01,  9.74102848e-01,  1.32091903e-01,\n",
       "       -1.27059960e+00, -7.24205807e-01,  7.69130679e-02,  6.14620186e-01,\n",
       "        2.65582962e-02, -7.02076086e-01,  6.89830824e-02, -4.54457789e-01,\n",
       "        4.61428910e-01, -1.12585498e+00,  1.79536860e+00, -4.14810154e-01,\n",
       "       -2.85159589e-02,  1.53430611e+00, -1.18866887e+00,  9.71230136e-02,\n",
       "       -9.80102954e-01, -3.57767251e-01, -1.78612917e-01,  1.76300280e+00,\n",
       "        9.91506188e-01, -1.31314032e-01, -2.46599724e+00,  7.49185344e-01,\n",
       "       -2.92244313e-01, -1.57808158e-01, -3.85198896e-01, -6.64925724e-02,\n",
       "        3.13952196e-02, -1.86828594e+00, -8.05168969e-04,  2.06017377e+00,\n",
       "       -5.04665004e-01,  3.92380822e-01, -1.84220632e-01, -7.61873497e-01,\n",
       "       -5.67683121e-01,  5.46763519e-01, -7.65445375e-01,  9.77428972e-01,\n",
       "       -1.64175665e+00, -1.39908551e+00, -5.57332309e-01,  2.06972476e-01,\n",
       "        3.15872183e-01, -8.03686473e-01, -1.66473832e+00, -9.05445220e-01,\n",
       "        1.57985440e-01,  1.85410029e-02,  5.12145798e-01,  8.58146136e-01,\n",
       "       -4.67400041e-02, -7.72595242e-01,  5.27639731e-01, -1.82012328e-01,\n",
       "        3.05878219e+00, -8.05024651e-01, -1.27222700e-01,  9.42305521e-01,\n",
       "       -3.53590742e-01,  5.41014592e-01, -9.09426313e-01, -1.19846815e+00,\n",
       "       -1.48344341e+00,  2.52111942e-01, -8.69718646e-01,  4.17391777e-01,\n",
       "       -5.92808426e-01, -1.36835033e+00,  9.31138633e-01,  2.58180312e+00,\n",
       "        2.32791942e-01, -1.80736019e+00,  6.70120197e-01, -1.96845418e+00,\n",
       "       -1.22142358e+00,  1.18467418e+00, -7.03161633e-01,  1.10799613e+00,\n",
       "        2.96438430e-01,  4.59103141e-01, -1.84283823e-01,  1.58575708e+00,\n",
       "       -1.67414734e-01, -6.44400521e-02,  1.07365672e+00,  1.22180291e+00,\n",
       "        1.48918243e+00, -3.86648475e-01, -5.64047665e-01,  4.41398360e-02,\n",
       "       -2.80088064e-01, -3.33645009e-01, -4.08368817e-01, -1.49903328e-01,\n",
       "        2.84110568e-01,  2.47613963e+00, -1.14032228e+00,  1.98011069e+00,\n",
       "       -1.56006913e-01,  1.18072621e+00,  1.03724754e+00,  5.01604168e-01,\n",
       "        1.06241035e+00, -2.28765269e-01, -5.38380363e-02, -8.37715849e-01,\n",
       "        3.25037050e-01, -4.46019731e-01, -1.61065948e+00, -8.38076406e-02,\n",
       "        3.15579325e-01,  7.59370065e-02,  7.40097240e-01, -2.88594908e-01,\n",
       "       -1.51405120e+00, -3.74837416e-01,  1.64448912e-01,  3.93521041e-01,\n",
       "        8.21054239e-01,  1.57580360e+00, -9.07976989e-01,  8.55735893e-01,\n",
       "        1.22684566e+00,  3.91852899e-01,  3.70746187e-01,  1.07279180e+00,\n",
       "       -1.63504202e+00,  2.03237984e-01,  7.04932099e-01, -3.87606795e-01,\n",
       "       -6.87645346e-01, -1.23668037e-01, -1.13054771e-01,  1.51308685e-01,\n",
       "        2.51968272e+00, -3.39044568e-01,  2.28234114e+00,  4.98581897e-01,\n",
       "       -4.46966837e-01,  7.28410325e-01,  1.73458325e-01,  9.83384002e-01,\n",
       "       -2.78358934e-01, -3.92454083e-01, -1.43929644e+00,  5.30205761e-01,\n",
       "        3.26073228e-01,  1.10050572e+00, -9.60268118e-02,  2.88456730e-01,\n",
       "        1.63374899e+00,  1.57828915e+00, -5.88836015e-01,  1.54553831e-01,\n",
       "       -1.37689976e+00,  1.55311499e-01,  5.90561703e-01, -2.42873147e-01,\n",
       "        1.08396484e+00,  2.69678216e-01,  1.18528850e+00,  3.84609369e-01,\n",
       "       -3.57296968e-01,  7.57418951e-01,  3.70912963e-01, -6.31942384e-01,\n",
       "       -1.04450061e+00, -1.66925971e-01, -4.66604714e-01,  9.03411837e-02,\n",
       "        5.94734704e-01, -6.18492419e-01, -1.67352915e+00,  6.64393981e-01,\n",
       "        1.29879568e-02,  7.82532049e-01,  2.26313245e+00, -1.16690261e+00,\n",
       "       -8.92655044e-01, -1.08131006e+00, -1.33592999e+00, -6.70941726e-01,\n",
       "        1.69471688e+00,  7.31613517e-01,  7.39503841e-01,  6.11264661e-01,\n",
       "       -2.49173883e-01,  1.49312670e-01, -2.78929263e+00, -9.39760745e-01,\n",
       "       -5.76054326e-01,  1.93812532e+00,  1.03252796e+00,  1.16138019e+00,\n",
       "        9.08324737e-01,  1.50989683e+00,  4.44181050e-01, -5.94425937e-01,\n",
       "        2.05545234e-01,  1.42952740e-01, -6.49833475e-01, -5.35090385e-01,\n",
       "       -1.59291203e+00, -9.66752207e-01,  4.28102671e-01,  1.18965378e+00,\n",
       "       -4.20949849e-01,  1.51306904e+00, -1.18575760e+00, -4.90306587e-01,\n",
       "        3.74253917e-01,  1.20479167e+00, -9.27487449e-02,  1.97020073e+00,\n",
       "       -1.56275402e-01, -2.42932770e-01, -1.40019621e+00, -1.78377921e-01,\n",
       "       -9.12135377e-01,  1.20957865e+00, -2.42752188e-01,  1.16527160e+00,\n",
       "        3.79813691e-01,  8.81879579e-01, -1.33451328e+00,  3.61353470e-01,\n",
       "        9.65514728e-01,  7.23259201e-02,  7.43828492e-01, -3.91030473e-01,\n",
       "       -2.68040464e-01,  6.43883465e-01,  6.54620037e-01,  3.00195039e-01,\n",
       "        3.92687052e-01, -3.47095970e-01, -1.20666594e+00,  1.29548701e+00,\n",
       "        3.90118032e-01, -1.00468132e+00,  3.14776191e-01,  3.40144814e-01,\n",
       "        4.45115762e-01,  1.25095939e-01, -1.30180944e+00,  3.87410579e-01,\n",
       "       -1.86583679e+00, -8.07682118e-01,  9.01800229e-03,  2.36285809e-01,\n",
       "       -9.01809983e-01, -3.10582787e-01, -1.15164342e+00,  1.79969001e+00,\n",
       "       -3.20435019e-01, -1.06924922e+00,  2.35489186e+00, -1.48445404e+00,\n",
       "       -6.93490583e-02,  1.51825771e+00, -1.57336552e+00, -5.28904330e-01,\n",
       "       -4.64273791e-01,  4.78566158e-01, -1.06680280e+00,  1.36863833e+00,\n",
       "        5.93232226e-02, -4.75920373e-02, -1.71526055e+00,  7.49991350e-01,\n",
       "       -3.59420800e-01, -4.29749985e-01, -2.77126663e-01,  1.88139564e+00,\n",
       "       -1.66164233e-02,  1.30243111e+00, -1.37093277e+00, -8.34003677e-01,\n",
       "       -1.84649662e-01,  6.93989172e-01, -1.68528004e+00, -4.88582391e-02,\n",
       "       -2.70650685e-01,  8.92535014e-01,  1.05617767e+00, -9.82546030e-01,\n",
       "       -2.06393485e-01, -1.67106333e-01,  5.02753120e-01,  6.93985078e-01,\n",
       "       -1.46938908e+00,  5.17330011e-01,  1.48793157e+00,  1.32545186e+00,\n",
       "       -4.95890379e-01, -1.97698374e-01, -1.08253813e-01,  1.02875603e+00,\n",
       "       -7.79105325e-01,  8.35331713e-01, -1.48645614e+00,  1.90777816e+00,\n",
       "       -9.43440215e-01, -2.97977453e-01, -2.12989798e-01, -1.29484136e-01,\n",
       "        1.06467280e+00, -8.68379113e-01,  1.56133934e+00,  1.04157201e+00,\n",
       "       -1.57403946e+00,  1.86053127e-02, -4.38792226e-01, -4.52841812e-01,\n",
       "       -2.45295072e-01,  6.64927640e-01,  2.45961300e-01,  1.48369409e+00,\n",
       "       -6.93717843e-02,  1.34898961e+00,  1.35959917e+00,  4.25733631e-01,\n",
       "        8.63651622e-02, -9.32950277e-01,  1.27650479e+00, -1.64009277e+00,\n",
       "       -1.10902476e-01,  4.74750262e-01,  1.29885430e+00, -4.78302780e-01,\n",
       "       -1.19427861e+00,  1.63277962e+00, -8.39253396e-01,  1.65191483e+00,\n",
       "       -1.49342862e-01, -1.10104339e+00, -1.12373377e+00, -6.59744758e-01,\n",
       "        2.15619522e-01,  4.84104884e-01,  1.47612890e+00,  5.91396530e-01,\n",
       "        1.84905348e+00,  3.87002188e-01, -5.22298986e-01, -7.33319534e-01,\n",
       "        7.22626782e-01, -1.18616352e+00, -9.70705819e-01,  6.94006069e-03])"
      ]
     },
     "execution_count": 13,
     "metadata": {},
     "output_type": "execute_result"
    }
   ],
   "source": [
    "#normal_data = np.random.normal(loc=0, scale=1, size=100)\n",
    "normal_data = np.random.randn(1000)\n",
    "normal_data"
   ]
  },
  {
   "cell_type": "code",
   "execution_count": 14,
   "metadata": {},
   "outputs": [
    {
     "data": {
      "text/plain": [
       "<Axes: ylabel='Count'>"
      ]
     },
     "execution_count": 14,
     "metadata": {},
     "output_type": "execute_result"
    },
    {
     "data": {
      "image/png": "[encoded data removed]",
      "text/plain": [
       "<Figure size 640x480 with 1 Axes>"
      ]
     },
     "metadata": {},
     "output_type": "display_data"
    }
   ],
   "source": [
    "sns.histplot(normal_data, kde=True)"
   ]
  }
 ],
 "metadata": {
  "kernelspec": {
   "display_name": "base",
   "language": "python",
   "name": "python3"
  },
  "language_info": {
   "codemirror_mode": {
    "name": "ipython",
    "version": 3
   },
   "file_extension": ".py",
   "mimetype": "text/x-python",
   "name": "python",
   "nbconvert_exporter": "python",
   "pygments_lexer": "ipython3",
   "version": "3.11.5"
  }
 },
 "nbformat": 4,
 "nbformat_minor": 2
}
