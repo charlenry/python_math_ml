{
 "cells": [
  {
   "cell_type": "markdown",
   "metadata": {},
   "source": [
    "<p align=\"center\"><font size=\"6\"><b>Notebook de Charles-Henri SAINT-MARS</b></font></p>"
   ]
  },
  {
   "cell_type": "markdown",
   "metadata": {},
   "source": [
    "# **Les probabilités**"
   ]
  },
  {
   "cell_type": "code",
   "execution_count": 1,
   "metadata": {},
   "outputs": [
    {
     "name": "stdout",
     "output_type": "stream",
     "text": [
      "Probabilité de event :  1\n",
      "Probabilité de 'not event' :  0\n"
     ]
    }
   ],
   "source": [
    "P = {}  # initialisation du dictionnaire des probabilités\n",
    "P['event'] = 1\n",
    "print(\"Probabilité de event : \", P['event'])\n",
    "P['not event'] = 1 - P['event']\n",
    "print(\"Probabilité de 'not event' : \", P['not event'])"
   ]
  },
  {
   "cell_type": "markdown",
   "metadata": {},
   "source": [
    "### Probabilité conditionnelle"
   ]
  },
  {
   "cell_type": "code",
   "execution_count": 2,
   "metadata": {},
   "outputs": [
    {
     "name": "stdout",
     "output_type": "stream",
     "text": [
      "Probabilité de ne pas être malade :  0.99\n"
     ]
    }
   ],
   "source": [
    "P = {} # innitialisation du dictionnaire des probabilités\n",
    "P['Malade'] = 0.01\n",
    "P['Pas Malade'] = 1 - P['Malade']\n",
    "print(\"Probabilité de ne pas être malade : \", P['Pas Malade'])"
   ]
  },
  {
   "cell_type": "code",
   "execution_count": 3,
   "metadata": {},
   "outputs": [],
   "source": [
    "# Probabilité conditionnelle\n",
    "# Les données afférentes :\n",
    "P['Positif | Malade'] = 0.95\n",
    "P['Positif | Pas Malade'] = 0.03"
   ]
  },
  {
   "cell_type": "code",
   "execution_count": 4,
   "metadata": {},
   "outputs": [
    {
     "name": "stdout",
     "output_type": "stream",
     "text": [
      "Probabilité d'être malade et d'avoir un test positif :  0.0095\n"
     ]
    }
   ],
   "source": [
    "# Quelle est la probalilité d'être malade et d'avoir un test positif ?\n",
    "P['Malade et Positif'] = P['Positif | Malade'] * P['Malade'] # P(A et B) = P(A | B) * P(B) = P(B | A) * P(A)\n",
    "print(\"Probabilité d'être malade et d'avoir un test positif : \", P['Malade et Positif'])"
   ]
  },
  {
   "cell_type": "code",
   "execution_count": 5,
   "metadata": {},
   "outputs": [
    {
     "name": "stdout",
     "output_type": "stream",
     "text": [
      "Probabilité d'être pas malade et d'avoir un test positif :  0.029699999999999997\n"
     ]
    }
   ],
   "source": [
    "# Quelle est la probalilité d'être pas malade et d'avoir un test positif ?\n",
    "P['Pas Malade et Positif'] = P['Positif | Pas Malade'] * P['Pas Malade'] # P(A et B) = P(A | B) * P(B)\n",
    "print(\"Probabilité d'être pas malade et d'avoir un test positif : \", P['Pas Malade et Positif'])"
   ]
  },
  {
   "cell_type": "code",
   "execution_count": 6,
   "metadata": {},
   "outputs": [
    {
     "name": "stdout",
     "output_type": "stream",
     "text": [
      "Probabilité d'avoir un test positif :  0.0392\n"
     ]
    }
   ],
   "source": [
    "# Quelle est la probalilité d'avoir un test positif ?\n",
    "P['Positif'] = P['Malade et Positif'] + P['Pas Malade et Positif'] # loi de probabilité totale : P(A) = P(A et B) + P(A et non B)\n",
    "print(\"Probabilité d'avoir un test positif : \", P['Positif'])"
   ]
  },
  {
   "cell_type": "code",
   "execution_count": 7,
   "metadata": {},
   "outputs": [
    {
     "name": "stdout",
     "output_type": "stream",
     "text": [
      "Probabilité d'être malade sachant que le test est positif :  0.2423469387755102\n"
     ]
    }
   ],
   "source": [
    "# Quelle est la probalilité d'être malade sachant que le test est positif ?\n",
    "# Rappel : (a * b) / b = a\n",
    "P['Malade | Positif'] = P['Malade et Positif'] / P['Positif']  # P(A | B) = P(A et B) / P(B)\n",
    "print(\"Probabilité d'être malade sachant que le test est positif : \", P['Malade | Positif'])"
   ]
  },
  {
   "cell_type": "code",
   "execution_count": 8,
   "metadata": {},
   "outputs": [
    {
     "name": "stdout",
     "output_type": "stream",
     "text": [
      "Probabilité d'être malade sachant que le test est positif :  0.2423469387755102\n"
     ]
    }
   ],
   "source": [
    "# Théorème de Bayes\n",
    "# P(A | B) = (P(B | A) * P(A)) / P(B)\n",
    "P['Malade | Positif'] = (P['Positif | Malade'] * P['Malade']) / P['Positif']\n",
    "print(\"Probabilité d'être malade sachant que le test est positif : \", P['Malade | Positif'])"
   ]
  },
  {
   "cell_type": "code",
   "execution_count": 9,
   "metadata": {},
   "outputs": [
    {
     "name": "stdout",
     "output_type": "stream",
     "text": [
      "Probabilité d'être pas malade sachant que le test est positif :  0.7576530612244897\n"
     ]
    }
   ],
   "source": [
    "# Quelle est la probalilité d'être pas malade sachant que le test est positif ?\n",
    "P['Pas Malade | Positif'] = P['Pas Malade et Positif'] / P['Positif']  # P(A | B) = P(A et B) / P(B)\n",
    "print(\"Probabilité d'être pas malade sachant que le test est positif : \", P['Pas Malade | Positif'])"
   ]
  },
  {
   "cell_type": "code",
   "execution_count": 10,
   "metadata": {},
   "outputs": [
    {
     "name": "stdout",
     "output_type": "stream",
     "text": [
      "Probabilité d'être pas malade sachant que le test est positif :  0.7576530612244897\n"
     ]
    }
   ],
   "source": [
    "# Théorème de Bayes\n",
    "# P(A | B) = (P(B | A) * P(A)) / P(B)\n",
    "P['Pas Malade | Positif'] = (P['Positif | Pas Malade'] * P['Pas Malade']) / P['Positif']\n",
    "print(\"Probabilité d'être pas malade sachant que le test est positif : \", P['Pas Malade | Positif'])"
   ]
  },
  {
   "cell_type": "code",
   "execution_count": 11,
   "metadata": {},
   "outputs": [
    {
     "name": "stdout",
     "output_type": "stream",
     "text": [
      "Probabilité d'être malade sachant que le test est négatif :  0.0005203996669442137\n"
     ]
    }
   ],
   "source": [
    "# Quelle est la probalilité d'être malade sachant que le test est négatif ?\n",
    "P['Negatif | Malade'] = 1 - P['Positif | Malade']\n",
    "P['Negatif | Pas Malade'] = 1 - P['Positif | Pas Malade']\n",
    "P['Malade et Negatif'] = P['Negatif | Malade'] * P['Malade']\n",
    "P['Pas Malade et Negatif'] = P['Negatif | Pas Malade'] * P['Pas Malade']\n",
    "P['Negatif'] = P['Malade et Negatif'] + P['Pas Malade et Negatif']\n",
    "# Théorème de Bayes\n",
    "# P(A | B) = (P(B | A) * P(A)) / P(B)\n",
    "P['Malade | Negatif'] = (P['Negatif | Malade'] * P['Malade']) / P['Negatif']\n",
    "# ou bien P['Malade | Negatif'] = P['Malade et Negatif'] / P['Negatif']\n",
    "print(\"Probabilité d'être malade sachant que le test est négatif : \", P['Malade | Negatif'])"
   ]
  },
  {
   "cell_type": "code",
   "execution_count": null,
   "metadata": {},
   "outputs": [],
   "source": []
  }
 ],
 "metadata": {
  "kernelspec": {
   "display_name": "base",
   "language": "python",
   "name": "python3"
  },
  "language_info": {
   "codemirror_mode": {
    "name": "ipython",
    "version": 3
   },
   "file_extension": ".py",
   "mimetype": "text/x-python",
   "name": "python",
   "nbconvert_exporter": "python",
   "pygments_lexer": "ipython3",
   "version": "3.11.5"
  }
 },
 "nbformat": 4,
 "nbformat_minor": 2
}
