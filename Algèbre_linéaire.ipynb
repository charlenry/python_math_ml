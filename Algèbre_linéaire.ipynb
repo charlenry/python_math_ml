{
 "cells": [
  {
   "cell_type": "markdown",
   "metadata": {},
   "source": [
    "<p align=\"center\"><font size=\"6\"><b>Notebook de Charles-Henri SAINT-MARS</b</font></p>"
   ]
  },
  {
   "cell_type": "markdown",
   "metadata": {},
   "source": [
    "# **Algèbre linéaire**"
   ]
  },
  {
   "cell_type": "code",
   "execution_count": 3,
   "metadata": {},
   "outputs": [],
   "source": [
    "# Importation des modules\n",
    "from random import randint\n",
    "from random import seed\n",
    "from math import sqrt\n",
    "import numpy as np\n",
    "import tensorflow as tf\n",
    "import torch"
   ]
  },
  {
   "cell_type": "markdown",
   "metadata": {},
   "source": [
    "## Le scalaire"
   ]
  },
  {
   "cell_type": "code",
   "execution_count": 4,
   "metadata": {},
   "outputs": [
    {
     "data": {
      "text/plain": [
       "3"
      ]
     },
     "execution_count": 4,
     "metadata": {},
     "output_type": "execute_result"
    }
   ],
   "source": [
    "# En algèbre linéaire, l’objet mathématique le plus simple est le scalaire, qui est un nombre. Un vecteur est une liste de scalaires. Un tenseur est une matrice de vecteurs. Un tenseur d’ordre supérieur est une matrice de tenseurs, et ainsi de suite.\n",
    "\n",
    "scalaire = 3 \n",
    "scalaire"
   ]
  },
  {
   "cell_type": "code",
   "execution_count": null,
   "metadata": {},
   "outputs": [],
   "source": []
  },
  {
   "cell_type": "markdown",
   "metadata": {},
   "source": [
    "## Les Vecteurs"
   ]
  },
  {
   "cell_type": "markdown",
   "metadata": {},
   "source": [
    "### Vecteurs aléatoires"
   ]
  },
  {
   "cell_type": "code",
   "execution_count": 5,
   "metadata": {},
   "outputs": [
    {
     "data": {
      "text/plain": [
       "[8, 1, 1]"
      ]
     },
     "execution_count": 5,
     "metadata": {},
     "output_type": "execute_result"
    }
   ],
   "source": [
    "# Créer un vecteur aléatoire\n",
    "# randint(valeur_min, valeur_max) : Cette fonction de la bibliothèque random génère un nombre entier aléatoire entre valeur_min et valeur_max (inclus).\n",
    "\n",
    "# for _ in range(dimension) : Cette boucle se répète dimension fois. Le caractère de soulignement _ est souvent utilisé en Python pour une variable qui n'est pas utilisée.\n",
    "\n",
    "# [randint(valeur_min, valeur_max) for _ in range(dimension)] : Ceci est une liste en compréhension qui génère une nouvelle liste. Pour chaque itération de la boucle, elle génère un nouveau nombre aléatoire et l'ajoute à la liste.\n",
    "\n",
    "def créer_vecteur_aléatoire(dimension, valeur_min=0, valeur_max=10):\n",
    "  return [randint(valeur_min, valeur_max) for _ in range(dimension)]\n",
    "\n",
    "créer_vecteur_aléatoire(3)"
   ]
  },
  {
   "cell_type": "code",
   "execution_count": 6,
   "metadata": {},
   "outputs": [
    {
     "data": {
      "text/plain": [
       "9"
      ]
     },
     "execution_count": 6,
     "metadata": {},
     "output_type": "execute_result"
    }
   ],
   "source": [
    "seed(10) # Pour obtenir des résultats reproductibles\n",
    "randint(0, 10)"
   ]
  },
  {
   "cell_type": "code",
   "execution_count": 7,
   "metadata": {},
   "outputs": [],
   "source": [
    "seed(92024)\n",
    "vect_1 = créer_vecteur_aléatoire(2)\n",
    "vect_2 = créer_vecteur_aléatoire(2)"
   ]
  },
  {
   "cell_type": "code",
   "execution_count": 8,
   "metadata": {},
   "outputs": [
    {
     "data": {
      "text/plain": [
       "[6, 2]"
      ]
     },
     "execution_count": 8,
     "metadata": {},
     "output_type": "execute_result"
    }
   ],
   "source": [
    "vect_1"
   ]
  },
  {
   "cell_type": "code",
   "execution_count": 9,
   "metadata": {},
   "outputs": [
    {
     "data": {
      "text/plain": [
       "[9, 7]"
      ]
     },
     "execution_count": 9,
     "metadata": {},
     "output_type": "execute_result"
    }
   ],
   "source": [
    "vect_2"
   ]
  },
  {
   "cell_type": "markdown",
   "metadata": {},
   "source": [
    "<p color=\"red\">Un vecteur est une matrice de 1xN. <br>\n",
    "Il peut être de la forme vector = [ 1, 2, 3 ] (une seule ligne) ou vector = [ [1],[2],[3] ] (une seule colonne)</p>"
   ]
  },
  {
   "cell_type": "markdown",
   "metadata": {},
   "source": [
    "### Normes des vecteurs"
   ]
  },
  {
   "cell_type": "code",
   "execution_count": 10,
   "metadata": {},
   "outputs": [],
   "source": [
    "# Norme L1\n",
    "# La norme L1 d'un vecteur est la somme des valeurs absolues de ses composantes."
   ]
  },
  {
   "cell_type": "markdown",
   "metadata": {},
   "source": [
    "<img src=\"Norme_vecteur_L1.jpg\" />"
   ]
  },
  {
   "cell_type": "code",
   "execution_count": 11,
   "metadata": {},
   "outputs": [],
   "source": [
    "# abs(a) : Cette fonction retourne la valeur absolue de a. La valeur absolue d'un nombre est sa valeur sans signe. Par exemple, abs(-3) est 3 et abs(3) est aussi 3.\n",
    "\n",
    "# [abs(a) for a in vecteur] : Ceci est une liste en compréhension qui génère une nouvelle liste. Pour chaque élément a dans vecteur, elle calcule abs(a) et ajoute le résultat à la liste.\n",
    "\n",
    "# sum([abs(a) for a in vecteur]) : Cette fonction calcule la somme de tous les éléments de la liste. En d'autres termes, elle ajoute toutes les valeurs absolues des éléments du vecteur.\n",
    "\n",
    "def norme_L1(vecteur):\n",
    "  return sum([abs(a) for a in vecteur])"
   ]
  },
  {
   "cell_type": "code",
   "execution_count": 12,
   "metadata": {},
   "outputs": [
    {
     "data": {
      "text/plain": [
       "8"
      ]
     },
     "execution_count": 12,
     "metadata": {},
     "output_type": "execute_result"
    }
   ],
   "source": [
    "norme_L1(vect_1)"
   ]
  },
  {
   "cell_type": "code",
   "execution_count": 13,
   "metadata": {},
   "outputs": [
    {
     "data": {
      "text/plain": [
       "8.0"
      ]
     },
     "execution_count": 13,
     "metadata": {},
     "output_type": "execute_result"
    }
   ],
   "source": [
    "# Vérification avec numpy\n",
    "np.linalg.norm(vect_1, ord=1)"
   ]
  },
  {
   "cell_type": "code",
   "execution_count": 14,
   "metadata": {},
   "outputs": [],
   "source": [
    "# Norme L2\n",
    "# La norme L2 d'un vecteur est la racine carrée de la somme des carrés de ses composantes."
   ]
  },
  {
   "cell_type": "markdown",
   "metadata": {},
   "source": [
    "<img src=\"Norme_vecteur_L2.jpg\" />"
   ]
  },
  {
   "cell_type": "code",
   "execution_count": 15,
   "metadata": {},
   "outputs": [],
   "source": [
    "# a ** 2 : Cette expression élève a au carré. En d'autres termes, elle multiplie a par lui-même.\n",
    "\n",
    "# [a ** 2 for a in vecteur] : Ceci est une liste en compréhension qui génère une nouvelle liste. Pour chaque élément a dans vecteur, elle calcule a ** 2 et ajoute le résultat à la liste.\n",
    "\n",
    "# sum([a ** 2 for a in vecteur]) : Cette fonction calcule la somme de tous les éléments de la liste. En d'autres termes, elle fait la somme de tous les carrés des éléments du vecteur.\n",
    "\n",
    "# sum([a ** 2 for a in vecteur]) ** 0.5 : Cette expression calcule la racine carrée de la somme. En Python, ** 0.5 est l'opération de racine carrée.\n",
    "\n",
    "def norme_L2(vecteur):\n",
    "  return sum([a ** 2 for a in vecteur]) ** 0.5"
   ]
  },
  {
   "cell_type": "code",
   "execution_count": 16,
   "metadata": {},
   "outputs": [
    {
     "data": {
      "text/plain": [
       "6.324555320336759"
      ]
     },
     "execution_count": 16,
     "metadata": {},
     "output_type": "execute_result"
    }
   ],
   "source": [
    "norme_L2(vect_1)"
   ]
  },
  {
   "cell_type": "code",
   "execution_count": 17,
   "metadata": {},
   "outputs": [
    {
     "data": {
      "text/plain": [
       "6.324555320336759"
      ]
     },
     "execution_count": 17,
     "metadata": {},
     "output_type": "execute_result"
    }
   ],
   "source": [
    "# Vérification avec numpy\n",
    "np.linalg.norm(vect_1, ord=2)"
   ]
  },
  {
   "cell_type": "markdown",
   "metadata": {},
   "source": [
    "### Distance euclidienne entre deux vecteurs"
   ]
  },
  {
   "cell_type": "code",
   "execution_count": 18,
   "metadata": {},
   "outputs": [],
   "source": [
    "\n",
    "# La distance euclidienne entre deux vecteurs est la racine carrée de la somme des carrés des différences de leurs composantes homologues."
   ]
  },
  {
   "cell_type": "markdown",
   "metadata": {},
   "source": [
    "<img src=\"Distance_euclidienne_entre_2_vecteurs.jpg\" />"
   ]
  },
  {
   "cell_type": "code",
   "execution_count": 19,
   "metadata": {},
   "outputs": [],
   "source": [
    "# (b - a) ** 2 : Cette expression calcule le carré de la différence entre les éléments correspondants b et a des deux vecteurs.\n",
    "\n",
    "# for (b, a) in zip(vecteur2, vecteur1) : Cette boucle parcourt les paires d'éléments correspondants dans vecteur2 et vecteur1. La fonction zip combine les deux vecteurs en une liste de paires.\n",
    "\n",
    "# [(b - a) ** 2 for (b, a) in zip(vecteur2, vecteur1)] : Ceci est une liste en compréhension qui génère une nouvelle liste. Pour chaque paire (b, a), elle calcule (b - a) ** 2 et ajoute le résultat à la liste.\n",
    "\n",
    "# sum([(b - a) ** 2 for (b, a) in zip(vecteur2, vecteur1)]) : Cette fonction calcule la somme de tous les éléments de la liste. En d'autres termes, elle ajoute tous les carrés des différences entre les éléments correspondants des deux vecteurs.\n",
    "\n",
    "# sum([(b - a) ** 2 for (b, a) in zip(vecteur2, vecteur1)]) ** 0.5 : Cette expression calcule la racine carrée de la somme. En Python, ** 0.5 est l'opération de racine carrée.\n",
    "\n",
    "def distance_L2(vecteur2, vecteur1):\n",
    "  return sum([(b - a) ** 2 for (b, a) in zip(vecteur2, vecteur1)]) ** 0.5"
   ]
  },
  {
   "cell_type": "code",
   "execution_count": 20,
   "metadata": {},
   "outputs": [
    {
     "data": {
      "text/plain": [
       "5.830951894845301"
      ]
     },
     "execution_count": 20,
     "metadata": {},
     "output_type": "execute_result"
    }
   ],
   "source": [
    "distance_L2(vect_2, vect_1)"
   ]
  },
  {
   "cell_type": "code",
   "execution_count": 21,
   "metadata": {},
   "outputs": [
    {
     "data": {
      "text/plain": [
       "5.830951894845301"
      ]
     },
     "execution_count": 21,
     "metadata": {},
     "output_type": "execute_result"
    }
   ],
   "source": [
    "# Vérification avec numpy\n",
    "np.linalg.norm(np.array(vect_2) - np.array(vect_1), ord=2)"
   ]
  },
  {
   "cell_type": "markdown",
   "metadata": {},
   "source": [
    "### Produit de deux vecteurs appelé produit scalaire"
   ]
  },
  {
   "cell_type": "code",
   "execution_count": 22,
   "metadata": {},
   "outputs": [],
   "source": [
    "# Cette ligne de code calcule le produit scalaire de deux vecteurs, `vecteur1` et `vecteur2`. Voici comment cela fonctionne :\n",
    "\n",
    "# 1. `a * b` : Cette expression multiplie les éléments correspondants `a` et `b` des deux vecteurs.\n",
    "\n",
    "# 2. `for (a, b) in zip(vecteur1, vecteur2)` : Cette boucle parcourt les paires d'éléments correspondants dans `vecteur1` et `vecteur2`. La fonction `zip` combine les deux vecteurs en une liste de paires.\n",
    "\n",
    "# 3. `[a * b for (a, b) in zip(vecteur1, vecteur2)]` : Ceci est une liste en compréhension qui génère une nouvelle liste. Pour chaque paire `(a, b)`, elle calcule `a * b` et ajoute le résultat à la liste.\n",
    "\n",
    "# 4. `sum([a * b for (a, b) in zip(vecteur1, vecteur2)])` : Cette fonction calcule la somme de tous les éléments de la liste. En d'autres termes, elle ajoute tous les produits des éléments correspondants des deux vecteurs.\n",
    "\n",
    "# Le produit scalaire est une opération fondamentale en algèbre linéaire et a de nombreuses applications, notamment en géométrie, en physique et en machine learning\n",
    "\n",
    "def produit_scalaire(vecteur1, vecteur2):\n",
    "  assert len(vecteur1) == len(vecteur2), \"Les vecteurs doivent avoir la même dimension\"\n",
    "  return sum([a * b for (a, b) in zip(vecteur1, vecteur2)])"
   ]
  },
  {
   "cell_type": "code",
   "execution_count": 23,
   "metadata": {},
   "outputs": [
    {
     "data": {
      "text/plain": [
       "68"
      ]
     },
     "execution_count": 23,
     "metadata": {},
     "output_type": "execute_result"
    }
   ],
   "source": [
    "produit_scalaire(vect_1, vect_2)"
   ]
  },
  {
   "cell_type": "code",
   "execution_count": 24,
   "metadata": {},
   "outputs": [
    {
     "data": {
      "text/plain": [
       "68"
      ]
     },
     "execution_count": 24,
     "metadata": {},
     "output_type": "execute_result"
    }
   ],
   "source": [
    "# Vérification avec numpy\n",
    "np.dot(vect_1, vect_2)"
   ]
  },
  {
   "cell_type": "code",
   "execution_count": null,
   "metadata": {},
   "outputs": [],
   "source": []
  },
  {
   "cell_type": "markdown",
   "metadata": {},
   "source": [
    "## Les Matrices"
   ]
  },
  {
   "cell_type": "markdown",
   "metadata": {},
   "source": [
    "### Dimensions de matrices"
   ]
  },
  {
   "cell_type": "code",
   "execution_count": 25,
   "metadata": {},
   "outputs": [
    {
     "data": {
      "text/plain": [
       "array([[1, 2],\n",
       "       [3, 4]])"
      ]
     },
     "execution_count": 25,
     "metadata": {},
     "output_type": "execute_result"
    }
   ],
   "source": [
    "# Matrice carré 2x2\n",
    "np.array([[1, 2], \n",
    "          [3, 4]])"
   ]
  },
  {
   "cell_type": "code",
   "execution_count": 26,
   "metadata": {},
   "outputs": [
    {
     "data": {
      "text/plain": [
       "array([[1, 2, 3],\n",
       "       [4, 5, 6]])"
      ]
     },
     "execution_count": 26,
     "metadata": {},
     "output_type": "execute_result"
    }
   ],
   "source": [
    "# Matrice de 2x3\n",
    "# Cette matrice comporte 2 lignes et 3 colonnes :\n",
    "np.array([[1, 2, 3], \n",
    "          [4, 5, 6]])"
   ]
  },
  {
   "cell_type": "code",
   "execution_count": 27,
   "metadata": {},
   "outputs": [
    {
     "data": {
      "text/plain": [
       "array([[ 1,  2,  3,  4],\n",
       "       [ 5,  6,  7,  8],\n",
       "       [ 9, 10, 11, 12],\n",
       "       [13, 14, 15, 16]])"
      ]
     },
     "execution_count": 27,
     "metadata": {},
     "output_type": "execute_result"
    }
   ],
   "source": [
    "# Matrice carré d'orde 4 (4x4)\n",
    "np.array([[1, 2, 3, 4], \n",
    "          [5, 6, 7, 8], \n",
    "          [9, 10, 11, 12], \n",
    "          [13, 14, 15, 16]])"
   ]
  },
  {
   "cell_type": "code",
   "execution_count": 28,
   "metadata": {},
   "outputs": [
    {
     "data": {
      "text/plain": [
       "array([[1, 0, 0, 0],\n",
       "       [0, 2, 0, 0],\n",
       "       [0, 0, 3, 0],\n",
       "       [0, 0, 0, 4]])"
      ]
     },
     "execution_count": 28,
     "metadata": {},
     "output_type": "execute_result"
    }
   ],
   "source": [
    "# Matrice diagonale\n",
    "# Une matrice diagonale est une matrice carrée dont les éléments non diagonaux sont tous nuls.\n",
    "np.diag([1, 2, 3, 4])"
   ]
  },
  {
   "cell_type": "code",
   "execution_count": 29,
   "metadata": {},
   "outputs": [
    {
     "data": {
      "text/plain": [
       "array([[3, 0, 0, 0],\n",
       "       [0, 3, 0, 0],\n",
       "       [0, 0, 3, 0],\n",
       "       [0, 0, 0, 3]])"
      ]
     },
     "execution_count": 29,
     "metadata": {},
     "output_type": "execute_result"
    }
   ],
   "source": [
    "# Matrice scalaire\n",
    "# Une matrice scalaire est une matrice diagonale dont les éléments diagonaux sont tous égaux.\n",
    "np.diag([3, 3, 3, 3])"
   ]
  },
  {
   "cell_type": "code",
   "execution_count": 30,
   "metadata": {},
   "outputs": [
    {
     "data": {
      "text/plain": [
       "array([[1., 0., 0., 0.],\n",
       "       [0., 1., 0., 0.],\n",
       "       [0., 0., 1., 0.],\n",
       "       [0., 0., 0., 1.]])"
      ]
     },
     "execution_count": 30,
     "metadata": {},
     "output_type": "execute_result"
    }
   ],
   "source": [
    "# Matrice identité\n",
    "# La matrice identité est une matrice diagonale dont les éléments diagonaux sont tous égaux à 1.\n",
    "np.eye(4)"
   ]
  },
  {
   "cell_type": "code",
   "execution_count": 31,
   "metadata": {},
   "outputs": [
    {
     "data": {
      "text/plain": [
       "array([[0., 0., 0., 0.],\n",
       "       [0., 0., 0., 0.],\n",
       "       [0., 0., 0., 0.]])"
      ]
     },
     "execution_count": 31,
     "metadata": {},
     "output_type": "execute_result"
    }
   ],
   "source": [
    "# Matrice nulle\n",
    "# Une matrice nulle est une matrice dont tous les éléments sont nuls.\n",
    "np.zeros((3, 4))"
   ]
  },
  {
   "cell_type": "code",
   "execution_count": 32,
   "metadata": {},
   "outputs": [
    {
     "data": {
      "text/plain": [
       "array([[ True,  True],\n",
       "       [ True,  True]])"
      ]
     },
     "execution_count": 32,
     "metadata": {},
     "output_type": "execute_result"
    }
   ],
   "source": [
    "# Matrices égales\n",
    "# Deux matrices sont égales si elles ont la même dimension et si tous leurs éléments homologues sont égaux.\n",
    "np.array([[1, 2], \n",
    "          [3, 4]]) == np.array([[1, 2], \n",
    "                                [3, 4]])\n"
   ]
  },
  {
   "cell_type": "code",
   "execution_count": 33,
   "metadata": {},
   "outputs": [
    {
     "data": {
      "text/plain": [
       "array([[ 2, -5, -3],\n",
       "       [ 4, -7, -1]])"
      ]
     },
     "execution_count": 33,
     "metadata": {},
     "output_type": "execute_result"
    }
   ],
   "source": [
    "# L'opposé d'une matrice\n",
    "# L'opposé d'une matrice est la matrice obtenue en changeant le signe de tous ses éléments.\n",
    "np.array([[-2, 5, 3], \n",
    "          [-4, 7, 1]]) * -1"
   ]
  },
  {
   "cell_type": "markdown",
   "metadata": {},
   "source": [
    "### Opérations sur les matrices"
   ]
  },
  {
   "cell_type": "markdown",
   "metadata": {},
   "source": [
    "#### Addition de matrices"
   ]
  },
  {
   "cell_type": "code",
   "execution_count": 34,
   "metadata": {},
   "outputs": [
    {
     "data": {
      "text/plain": [
       "array([[ 6,  8],\n",
       "       [10, 12]])"
      ]
     },
     "execution_count": 34,
     "metadata": {},
     "output_type": "execute_result"
    }
   ],
   "source": [
    "# Addition de matrices\n",
    "# Pour additionner deux matrices, il faut que leurs dimensions soient identiques.\n",
    "# L'addition de deux matrices se fait en additionnant leurs éléments homologues.\n",
    "np.array([[1, 2], \n",
    "          [3, 4]]) + np.array([[5, 6], \n",
    "                               [7, 8]])"
   ]
  },
  {
   "cell_type": "code",
   "execution_count": 35,
   "metadata": {},
   "outputs": [
    {
     "data": {
      "text/plain": [
       "array([[-4, -4],\n",
       "       [-4, -4]])"
      ]
     },
     "execution_count": 35,
     "metadata": {},
     "output_type": "execute_result"
    }
   ],
   "source": [
    "# Soustraction de matrices\n",
    "# Pour soustraire deux matrices, il faut que leurs dimensions soient identiques.\n",
    "# La soustraction de deux matrices se fait en soustrayant leurs éléments homologues.\n",
    "np.array([[1, 2], \n",
    "          [3, 4]]) - np.array([[5, 6], \n",
    "                               [7, 8]])"
   ]
  },
  {
   "cell_type": "code",
   "execution_count": 36,
   "metadata": {},
   "outputs": [
    {
     "data": {
      "text/plain": [
       "array([[2, 4],\n",
       "       [6, 8]])"
      ]
     },
     "execution_count": 36,
     "metadata": {},
     "output_type": "execute_result"
    }
   ],
   "source": [
    "# Multiplication d'une matrice par un scalaire\n",
    "# Pour multiplier une matrice par un scalaire, il faut multiplier tous ses éléments par ce scalaire.\n",
    "np.array([[1, 2], \n",
    "          [3, 4]]) * 2"
   ]
  },
  {
   "cell_type": "code",
   "execution_count": 37,
   "metadata": {},
   "outputs": [
    {
     "data": {
      "text/plain": [
       "array([[0.5, 1. ],\n",
       "       [1.5, 2. ]])"
      ]
     },
     "execution_count": 37,
     "metadata": {},
     "output_type": "execute_result"
    }
   ],
   "source": [
    "# Dividion d'une matrice par un scalaire\n",
    "# Pour diviser une matrice par un scalaire, il faut diviser tous ses éléments par ce scalaire.\n",
    "np.array([[1, 2], \n",
    "          [3, 4]]) / 2"
   ]
  },
  {
   "cell_type": "code",
   "execution_count": 38,
   "metadata": {},
   "outputs": [
    {
     "data": {
      "text/plain": [
       "array([[1, 3],\n",
       "       [2, 4]])"
      ]
     },
     "execution_count": 38,
     "metadata": {},
     "output_type": "execute_result"
    }
   ],
   "source": [
    "# Transposée d'une matrice\n",
    "# La transposée d'une matrice est la matrice obtenue en échangeant ses lignes et ses colonnes.\n",
    "# Lorsque vous permutez des lignes et des colonnes, vous faites pivoter la matrice autour de sa diagonale.\n",
    "# La diagonale va de la case en haut à gauche à la case en bas à droite (sens de l'antislah).\n",
    "np.array([[1, 2], \n",
    "          [3, 4]]).T"
   ]
  },
  {
   "cell_type": "code",
   "execution_count": 39,
   "metadata": {},
   "outputs": [
    {
     "data": {
      "text/plain": [
       "array([14, 32, 50])"
      ]
     },
     "execution_count": 39,
     "metadata": {},
     "output_type": "execute_result"
    }
   ],
   "source": [
    "# Produit matriciel\n",
    "# Le produit de deux matrices A et B est une matrice C.\n",
    "# Pour que le produit A.B soit possible, le nombre de colonnes de A doit être égal au nombre de lignes de B.\n",
    "# La matrice C a autant de lignes que A et autant de colonnes que B.\n",
    "# Chaque élément de C est le produit scalaire d'une ligne de A par une colonne de B.\n",
    "mA = np.array([1, 2, 3])\n",
    "\n",
    "mB = np.array([[1, 4, 7], \n",
    "              [2, 5, 8], \n",
    "              [3, 6, 9]])\n",
    "\n",
    "mC = np.dot(mA, mB) # [1+4+9, 4+10+18, 7+16+27]\n",
    "mC"
   ]
  },
  {
   "cell_type": "code",
   "execution_count": null,
   "metadata": {},
   "outputs": [],
   "source": []
  },
  {
   "cell_type": "markdown",
   "metadata": {},
   "source": [
    "### Les Tenseurs"
   ]
  },
  {
   "cell_type": "markdown",
   "metadata": {},
   "source": [
    "Un <b>tenseur</b>  est une <b>matrice à n dimensions</b>  :\n",
    " - Un scalaire est un tenseur de dimension 0\n",
    " - Un vecteur est un tenseur à 1 dimension\n",
    " - Une matrice est un tenseur à 2 dimensions <br>\n",
    "Un <b>tenseur</b> est une généralisation de <b>vecteurs</b> et de <b>matrices</b> à des dimensions supérieures."
   ]
  },
  {
   "cell_type": "markdown",
   "metadata": {},
   "source": [
    "### Les grades tensoriels"
   ]
  },
  {
   "cell_type": "markdown",
   "metadata": {},
   "source": [
    "Le nombre de directions qu’un tenseur peut avoir dans un espace à <b>N dimensions</b> est appelé le <b>rang du tenseur</b>.\n",
    "\n",
    "Le rang est <b>noté R</b>.\n",
    "\n",
    "Un <b>scalaire</b> est un nombre unique.\n",
    "- Il a 0 axes\n",
    "- Il a un <b>rang de 0</b>\n",
    "- Il s’agit d’un tenseur de dimension 0\n",
    "\n",
    "Un <b>vecteur</b> est un tableau à une dimension.\n",
    "- Il a 1 axe\n",
    "- Il a un <b>rang de 1</b> \n",
    "- Il s’agit d’un <b>tenseur à 1 dimension</b>\n",
    "\n",
    "Une <b>matrice</b> est un tableau à 2 dimensions.\n",
    "- Il a 2 axes\n",
    "- Il a un <b>rang de 2</b> \n",
    "- Il s’agit d’un <b>tenseur à 2 dimensions</b>\n",
    "\n",
    "Techniquement, tout ce qui précède sont des tenseurs, mais lorsque nous parlons de tenseurs, nous parlons de matrices de dimension supérieure à 2 (<b>R > 2</b>)."
   ]
  },
  {
   "cell_type": "markdown",
   "metadata": {},
   "source": [
    "Pour créer et <b>manipuler des tenseurs en Python</b>, le module le plus couramment utilisé est <b>TensorFlow</b> ou <b>PyTorch</b>, qui sont des bibliothèques populaires pour le calcul numérique et l'apprentissage automatique (ou machine learning)."
   ]
  },
  {
   "cell_type": "markdown",
   "metadata": {},
   "source": [
    "### Tensorflow"
   ]
  },
  {
   "cell_type": "code",
   "execution_count": 40,
   "metadata": {},
   "outputs": [
    {
     "name": "stdout",
     "output_type": "stream",
     "text": [
      "tf.Tensor(\n",
      "[[1 2]\n",
      " [3 4]], shape=(2, 2), dtype=int32)\n"
     ]
    }
   ],
   "source": [
    "# Création d'un tenseur 2x2 avec des valeurs constantes\n",
    "tensor = tf.constant([[1, 2], [3, 4]], dtype=tf.int32)\n",
    "\n",
    "print(tensor)"
   ]
  },
  {
   "cell_type": "code",
   "execution_count": 41,
   "metadata": {},
   "outputs": [
    {
     "name": "stdout",
     "output_type": "stream",
     "text": [
      "tf.Tensor(\n",
      "[[ 6  8]\n",
      " [10 12]], shape=(2, 2), dtype=int32)\n"
     ]
    }
   ],
   "source": [
    "# Création de deux tenseurs\n",
    "tensor1 = tf.constant([[1, 2], [3, 4]])\n",
    "tensor2 = tf.constant([[5, 6], [7, 8]])\n",
    "\n",
    "# Addition des deux tenseurs\n",
    "result = tf.add(tensor1, tensor2)\n",
    "\n",
    "print(result)"
   ]
  },
  {
   "cell_type": "markdown",
   "metadata": {},
   "source": [
    "### PyTorch"
   ]
  },
  {
   "cell_type": "code",
   "execution_count": 42,
   "metadata": {},
   "outputs": [
    {
     "name": "stdout",
     "output_type": "stream",
     "text": [
      "tensor([5, 7, 9])\n"
     ]
    }
   ],
   "source": [
    "# Créer deux tenseurs\n",
    "tensor1 = torch.tensor([1, 2, 3])\n",
    "tensor2 = torch.tensor([4, 5, 6])\n",
    "\n",
    "# Additionner les deux tenseurs\n",
    "result = tensor1 + tensor2\n",
    "\n",
    "print(result)"
   ]
  },
  {
   "cell_type": "code",
   "execution_count": null,
   "metadata": {},
   "outputs": [],
   "source": []
  },
  {
   "cell_type": "markdown",
   "metadata": {},
   "source": [
    "### Implémentation de produit de matrices (sans numpy)"
   ]
  },
  {
   "cell_type": "code",
   "execution_count": 43,
   "metadata": {},
   "outputs": [],
   "source": [
    "# Créer une matrice aléatoire\n",
    "def créer_matrice_aléatoire(lignes, colonnes, valeur_min=-5, valeur_max=5):\n",
    "  matrix = []  \n",
    "  for _ in range(lignes):\n",
    "    ligne = []\n",
    "    for _ in range(colonnes):\n",
    "      nombre_aléatoire = randint(valeur_min, valeur_max)\n",
    "      ligne.append(nombre_aléatoire)\n",
    "    matrix.append(ligne)\n",
    "  return matrix"
   ]
  },
  {
   "cell_type": "code",
   "execution_count": 44,
   "metadata": {},
   "outputs": [
    {
     "data": {
      "text/plain": [
       "[[2, -4, 2], [-3, 1, 3], [4, -1, 4]]"
      ]
     },
     "execution_count": 44,
     "metadata": {},
     "output_type": "execute_result"
    }
   ],
   "source": [
    "mD = créer_matrice_aléatoire(3, 3)\n",
    "\n",
    "mD # Matrice 3x4 à deux dimensions car il y a 2 crochets ouvrants avant la première cellule."
   ]
  },
  {
   "cell_type": "code",
   "execution_count": 45,
   "metadata": {},
   "outputs": [
    {
     "data": {
      "text/plain": [
       "[[2, 4, -5], [4, 3, 4], [1, 2, -3]]"
      ]
     },
     "execution_count": 45,
     "metadata": {},
     "output_type": "execute_result"
    }
   ],
   "source": [
    "mE = créer_matrice_aléatoire(3, 3)\n",
    "mE # Matrice 3x4 à deux dimensions car il y a 2 crochets ouvrants avant la première cellule."
   ]
  },
  {
   "cell_type": "code",
   "execution_count": 46,
   "metadata": {},
   "outputs": [
    {
     "name": "stdout",
     "output_type": "stream",
     "text": [
      "[[2, 4, 1], [4, 3, 2], [-5, 4, -3]]\n"
     ]
    }
   ],
   "source": [
    "# Transposer la matrice mE\n",
    "\n",
    "# zip(*mE) : La fonction zip combine plusieurs listes en une seule liste de tuples, où chaque tuple contient les éléments correspondants de chaque liste. L'opérateur * est utilisé pour déballer les listes de la matrice mE. En d'autres termes, zip(*mE) retourne une liste de tuples, où chaque tuple contient les éléments d'une colonne de la matrice mE.\n",
    "\n",
    "# number for number in colonne_mE : Cette expression parcourt chaque nombre number dans un tuple colonne_mE retourné par zip(*mE).\n",
    "\n",
    "# [number for number in colonne_mE] : Ceci est une liste en compréhension qui génère une nouvelle liste. Pour chaque nombre number dans colonne_mE, elle ajoute number à la liste.\n",
    "\n",
    "# [[number for number in colonne_mE] for colonne_mE in zip(*mE)] : Ceci est une liste en compréhension imbriquée qui génère une nouvelle liste de listes. Pour chaque tuple colonne_mE retourné par zip(*mE), elle génère une nouvelle liste et ajoute cette liste à la liste globale.\n",
    "\n",
    "# print([[number for number in colonne_mE] for colonne_mE in zip(*mE)]) : Cette fonction imprime la liste de listes générée par la liste en compréhension imbriquée.\n",
    "\n",
    "print([[number for number in colonne_mE] for colonne_mE in zip(*mE)])"
   ]
  },
  {
   "cell_type": "code",
   "execution_count": 47,
   "metadata": {},
   "outputs": [
    {
     "data": {
      "text/plain": [
       "(3, 3)"
      ]
     },
     "execution_count": 47,
     "metadata": {},
     "output_type": "execute_result"
    }
   ],
   "source": [
    "len(mE), len(mE[0]) # len(EA) est le nombre de lignes et len(A[0]) est le nombre de colonnes"
   ]
  },
  {
   "cell_type": "code",
   "execution_count": 48,
   "metadata": {},
   "outputs": [],
   "source": [
    "# Créer une fonction shape pour retourner le nombre de lignes et de colonnes d'une matrice\n",
    "def shape(matrice):\n",
    "  return len(matrice), len(matrice[0])"
   ]
  },
  {
   "cell_type": "code",
   "execution_count": 49,
   "metadata": {},
   "outputs": [
    {
     "data": {
      "text/plain": [
       "(3, 3)"
      ]
     },
     "execution_count": 49,
     "metadata": {},
     "output_type": "execute_result"
    }
   ],
   "source": [
    "shape(mD)"
   ]
  },
  {
   "cell_type": "code",
   "execution_count": 50,
   "metadata": {},
   "outputs": [],
   "source": [
    "# Créer une fonction pour multiplier deux matrices\n",
    "\n",
    "# Pour chaque ligne1 dans matrice1, elle effectue les opérations suivantes :\n",
    "# Pour chaque colonne2 dans la transposée de matrice2 (c'est ce que fait zip(*matrice2)), elle effectue les opérations suivantes :\n",
    "# Elle multiplie chaque élément a de ligne1 par l'élément correspondant b dans colonne2 (c'est ce que fait a * b for a, b in zip(ligne1, colonne2)).\n",
    "# Elle somme tous ces produits pour obtenir un seul nombre (c'est ce que fait sum([a * b for a, b in zip(ligne1, colonne2)])).\n",
    "# Elle répète ces opérations pour chaque colonne2 dans la transposée de matrice2, ce qui donne une nouvelle ligne dans la matrice résultante.\n",
    "# Elle répète ces opérations pour chaque ligne1 dans matrice1, ce qui donne la matrice résultante.\n",
    "\n",
    "def produit_matriciel(matrice1, matrice2) -> list:\n",
    "  shape_matrix1 = shape(matrice1)\n",
    "  shape_matrix2 = shape(matrice2)\n",
    "  print(f\"shape de {matrice1} est {shape_matrix1}, shape de {matrice2} est {shape_matrix2}\") # Afficher les dimensions des matrices\n",
    "  assert shape_matrix1[1] == shape_matrix2[0], \"Le nombre de colonnes de la première matrice doit être égal au nombre de lignes de la deuxième matrice\"\n",
    "  return [[sum([a * b for a, b in zip(ligne1, colonne2)]) for colonne2 in zip(*matrice2)] for ligne1 in matrice1]"
   ]
  },
  {
   "cell_type": "code",
   "execution_count": 51,
   "metadata": {},
   "outputs": [
    {
     "name": "stdout",
     "output_type": "stream",
     "text": [
      "shape de [[2, -4, 2], [-3, 1, 3], [4, -1, 4]] est (3, 3), shape de [[2, 4, -5], [4, 3, 4], [1, 2, -3]] est (3, 3)\n"
     ]
    },
    {
     "data": {
      "text/plain": [
       "[[-10, 0, -32], [1, -3, 10], [8, 21, -36]]"
      ]
     },
     "execution_count": 51,
     "metadata": {},
     "output_type": "execute_result"
    }
   ],
   "source": [
    "produit_matriciel(mD, mE)"
   ]
  },
  {
   "cell_type": "code",
   "execution_count": 52,
   "metadata": {},
   "outputs": [
    {
     "data": {
      "text/plain": [
       "array([[-10,   0, -32],\n",
       "       [  1,  -3,  10],\n",
       "       [  8,  21, -36]])"
      ]
     },
     "execution_count": 52,
     "metadata": {},
     "output_type": "execute_result"
    }
   ],
   "source": [
    "# Vérification avec numpy\n",
    "np.dot(mD, mE)"
   ]
  },
  {
   "cell_type": "code",
   "execution_count": 53,
   "metadata": {},
   "outputs": [
    {
     "name": "stdout",
     "output_type": "stream",
     "text": [
      "tf.Tensor(\n",
      "[[-10   0 -32]\n",
      " [  1  -3  10]\n",
      " [  8  21 -36]], shape=(3, 3), dtype=int32)\n"
     ]
    }
   ],
   "source": [
    "# Vérification avec TensorFlow\n",
    "tensor1 = tf.constant(mD)\n",
    "tensor2 = tf.constant(mE)\n",
    "result = tf.matmul(tensor1, tensor2)\n",
    "print(result)"
   ]
  },
  {
   "cell_type": "code",
   "execution_count": 54,
   "metadata": {},
   "outputs": [
    {
     "name": "stdout",
     "output_type": "stream",
     "text": [
      "tensor([[-10,   0, -32],\n",
      "        [  1,  -3,  10],\n",
      "        [  8,  21, -36]])\n"
     ]
    }
   ],
   "source": [
    "# Vérification avec PyTorch\n",
    "tensor1 = torch.tensor(mD)\n",
    "tensor2 = torch.tensor(mE)\n",
    "result = torch.mm(tensor1, tensor2)\n",
    "print(result)"
   ]
  },
  {
   "cell_type": "markdown",
   "metadata": {},
   "source": [
    "### Implémentation de la matrice identité (sans numpy)"
   ]
  },
  {
   "cell_type": "markdown",
   "metadata": {},
   "source": [
    "Une matrice identité est une matrice carrée qui a des 1s sur la diagonale principale et des 0s ailleurs. <br>\n",
    "mA x mI = mA (où mI est la matrice identité)"
   ]
  },
  {
   "cell_type": "code",
   "execution_count": 55,
   "metadata": {},
   "outputs": [],
   "source": [
    "# Créer une matrice identité\n",
    "\n",
    "# for i in range(dimension): Pour chaque ligne i dans la matrice (de 0 à dimension - 1).\n",
    "# for j in range(dimension): Pour chaque colonne j dans la matrice (de 0 à dimension - 1).\n",
    "# 1 if i == j else 0: Si la ligne i est la même que la colonne j (c'est-à-dire que nous sommes sur la diagonale principale), alors mettez un 1. Sinon, mettez un 0.\n",
    "# [[... for j in range(dimension)] for i in range(dimension)]: Ceci est une liste en compréhension imbriquée qui génère une liste de listes, ce qui est une représentation courante d'une matrice en Python.\n",
    "\n",
    "def créer_matrice_identité(dimension):\n",
    "  return [[1 if i == j else 0 for j in range(dimension)] for i in range(dimension)]"
   ]
  },
  {
   "cell_type": "code",
   "execution_count": 56,
   "metadata": {},
   "outputs": [
    {
     "data": {
      "text/plain": [
       "[[1, 0, 0, 0, 0],\n",
       " [0, 1, 0, 0, 0],\n",
       " [0, 0, 1, 0, 0],\n",
       " [0, 0, 0, 1, 0],\n",
       " [0, 0, 0, 0, 1]]"
      ]
     },
     "execution_count": 56,
     "metadata": {},
     "output_type": "execute_result"
    }
   ],
   "source": [
    "mI = créer_matrice_identité(5)\n",
    "mI"
   ]
  },
  {
   "cell_type": "markdown",
   "metadata": {},
   "source": [
    "### Implémentation d'une matrice inverse (sans numpy)"
   ]
  },
  {
   "cell_type": "markdown",
   "metadata": {},
   "source": [
    "- Une matrice inverse est une matrice carrée qui donne l'identité lorsqu'elle est multipliée par l'original. <br>\n",
    "- mA x mB = mI (où mB est la matrice inverse de mA et mI est la matrice identité) <br>\n",
    "- Toutes les matrices n'ont pas forcément d'inverse. Une matrice qui a une inverse est appelée une matrice inversible ou non singulière.\n",
    "- Certaines matrices non carrées ont des inverses appelées pseudo inverses. Par exemple, une matrice 2x3 a une inverse 3x2."
   ]
  },
  {
   "cell_type": "code",
   "execution_count": 57,
   "metadata": {},
   "outputs": [],
   "source": [
    " # Créer une fonction pour inverser une matrice\n",
    "\n",
    "# Ce bloc de code définit une fonction `matrice_inverse(matrice)` qui calcule l'inverse d'une matrice carrée en utilisant la méthode de Gauss-Jordan. Voici comment cela fonctionne :\n",
    "\n",
    "# 1. `assert shape(matrice)[0] == shape(matrice)[1], \"La matrice doit être carrée\"` : Cette ligne vérifie que la matrice est carrée (c'est-à-dire qu'elle a le même nombre de lignes et de colonnes). Si ce n'est pas le cas, elle génère une erreur.\n",
    "\n",
    "# 2. `dimension = shape(matrice)[0]` : Cette ligne détermine la dimension de la matrice (c'est-à-dire le nombre de lignes ou de colonnes).\n",
    "\n",
    "# 3. `matrice_identité = créer_matrice_identité(dimension)` : Cette ligne crée une matrice identité de la même dimension que la matrice d'entrée.\n",
    "\n",
    "# 4. `matrice_augmentée = [ligne1 + ligne2 for ligne1, ligne2 in zip(matrice, matrice_identité)]` : Cette ligne crée une matrice augmentée en combinant la matrice d'entrée et la matrice identité.\n",
    "\n",
    "# 5. Les deux boucles `for` suivantes effectuent l'élimination de Gauss-Jordan sur la matrice augmentée. Cette méthode transforme la matrice en une forme réduite par lignes échelonnées, ce qui permet de trouver l'inverse de la matrice.\n",
    "\n",
    "# 6. `return [ligne[dimension:] for ligne in matrice_augmentée]` : Cette ligne retourne la partie droite de la matrice augmentée, qui est l'inverse de la matrice d'entrée.\n",
    "\n",
    "# En résumé, cette fonction prend une matrice carrée en entrée et retourne son inverse. Si la matrice n'est pas carrée, elle génère une erreur. Si la matrice n'est pas inversible (c'est-à-dire si son déterminant est zéro), la fonction peut générer une erreur de division par zéro.\n",
    "\n",
    "def matrice_inverse(matrice):\n",
    "  assert shape(matrice)[0] == shape(matrice)[1], \"La matrice doit être carrée\"\n",
    "  dimension = shape(matrice)[0]\n",
    "  matrice_identité = créer_matrice_identité(dimension)\n",
    "  matrice_augmentée = [ligne1 + ligne2 for ligne1, ligne2 in zip(matrice, matrice_identité)]\n",
    "  for i in range(dimension):\n",
    "    pivot = matrice_augmentée[i][i]\n",
    "    matrice_augmentée[i] = [a / pivot for a in matrice_augmentée[i]]\n",
    "    for j in range(dimension):\n",
    "      if i != j:\n",
    "        coefficient = matrice_augmentée[j][i]\n",
    "        matrice_augmentée[j] = [a - coefficient * b for a, b in zip(matrice_augmentée[j], matrice_augmentée[i])]\n",
    "  return [ligne[dimension:] for ligne in matrice_augmentée]"
   ]
  },
  {
   "cell_type": "code",
   "execution_count": 58,
   "metadata": {},
   "outputs": [
    {
     "data": {
      "text/plain": [
       "[[-2.0, 2.0, -1.0], [3.0, -5.0, 4.0], [5.0, -6.0, 4.0]]"
      ]
     },
     "execution_count": 58,
     "metadata": {},
     "output_type": "execute_result"
    }
   ],
   "source": [
    "mF = [[4, -2, 3], [8, -3, 5], [7, -2, 4]]\n",
    "mF_inv = matrice_inverse(mF)\n",
    "mF_inv"
   ]
  },
  {
   "cell_type": "code",
   "execution_count": 59,
   "metadata": {},
   "outputs": [
    {
     "data": {
      "text/plain": [
       "array([[-2.,  2., -1.],\n",
       "       [ 3., -5.,  4.],\n",
       "       [ 5., -6.,  4.]])"
      ]
     },
     "execution_count": 59,
     "metadata": {},
     "output_type": "execute_result"
    }
   ],
   "source": [
    "# Vérification avec numpy\n",
    "np.linalg.inv(np.array(mF))"
   ]
  },
  {
   "cell_type": "markdown",
   "metadata": {},
   "source": [
    "### Implémentation de la transposée d'une matrice (sans numpy)"
   ]
  },
  {
   "cell_type": "markdown",
   "metadata": {},
   "source": [
    "- La transposée d'une matrice est la matrice obtenue en échangeant ses lignes et ses colonnes. <br>\n",
    "- Lorsque vous permutez des lignes et des colonnes, vous faites pivoter la matrice autour de sa diagonale. <br>\n",
    "- La diagonale va de la case en haut à gauche à la case en bas à droite (sens de l'antislah).\n"
   ]
  },
  {
   "cell_type": "code",
   "execution_count": 60,
   "metadata": {},
   "outputs": [],
   "source": [
    "# Déterminer la transposée d'une matrice\n",
    "\n",
    "# for i in range(len(matrice[0])) : Pour chaque colonne i dans la matrice originale (de 0 à len(matrice[0]) - 1).\n",
    "# for j in range(len(matrice)) : Pour chaque ligne j dans la matrice originale (de 0 à len(matrice) - 1).\n",
    "# matrice[j][i] : Prenez l'élément à la ligne j et à la colonne i de la matrice originale.\n",
    "# [matrice[j][i] for j in range(len(matrice))] : Créez une nouvelle ligne qui contient les éléments de la colonne i de la matrice originale.\n",
    "# [[... for i in range(len(matrice[0]))] : Faites cela pour chaque colonne i dans la matrice originale, ce qui donne la matrice transposée.\n",
    "\n",
    "def transposer(matrice):\n",
    "    return [[matrice[j][i] for j in range(len(matrice))] for i in range(len(matrice[0]))]"
   ]
  },
  {
   "cell_type": "code",
   "execution_count": 61,
   "metadata": {},
   "outputs": [
    {
     "data": {
      "text/plain": [
       "[[5, -4, 2, 2, 2],\n",
       " [-4, 4, 3, 0, -5],\n",
       " [5, -2, 3, 2, -5],\n",
       " [2, -3, -5, -4, 2],\n",
       " [-2, -3, 1, 5, -4]]"
      ]
     },
     "execution_count": 61,
     "metadata": {},
     "output_type": "execute_result"
    }
   ],
   "source": [
    "mG = créer_matrice_aléatoire(5, 5)\n",
    "mG\n",
    "                             "
   ]
  },
  {
   "cell_type": "code",
   "execution_count": 62,
   "metadata": {},
   "outputs": [
    {
     "data": {
      "text/plain": [
       "[[5, -4, 5, 2, -2],\n",
       " [-4, 4, -2, -3, -3],\n",
       " [2, 3, 3, -5, 1],\n",
       " [2, 0, 2, -4, 5],\n",
       " [2, -5, -5, 2, -4]]"
      ]
     },
     "execution_count": 62,
     "metadata": {},
     "output_type": "execute_result"
    }
   ],
   "source": [
    "transposer(mG)"
   ]
  },
  {
   "cell_type": "code",
   "execution_count": 63,
   "metadata": {},
   "outputs": [
    {
     "data": {
      "text/plain": [
       "[[1, 0, 0, 0, 0],\n",
       " [0, 1, 0, 0, 0],\n",
       " [0, 0, 1, 0, 0],\n",
       " [0, 0, 0, 1, 0],\n",
       " [0, 0, 0, 0, 1]]"
      ]
     },
     "execution_count": 63,
     "metadata": {},
     "output_type": "execute_result"
    }
   ],
   "source": [
    "transposer(mI) # La transposée d'une matrice identité est elle-même"
   ]
  },
  {
   "cell_type": "code",
   "execution_count": null,
   "metadata": {},
   "outputs": [],
   "source": []
  }
 ],
 "metadata": {
  "kernelspec": {
   "display_name": "Python 3 (ipykernel)",
   "language": "python",
   "name": "python3"
  },
  "language_info": {
   "codemirror_mode": {
    "name": "ipython",
    "version": 3
   },
   "file_extension": ".py",
   "mimetype": "text/x-python",
   "name": "python",
   "nbconvert_exporter": "python",
   "pygments_lexer": "ipython3",
   "version": "3.11.5"
  }
 },
 "nbformat": 4,
 "nbformat_minor": 2
}
