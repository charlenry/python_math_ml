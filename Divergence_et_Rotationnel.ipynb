{
 "cells": [
  {
   "cell_type": "markdown",
   "metadata": {},
   "source": [
    "<p align=\"center\"><font size=\"6\"><b>Notebook de Charles-Henri SAINT-MARS</b></font></p>"
   ]
  },
  {
   "cell_type": "markdown",
   "metadata": {},
   "source": [
    "# **Divergence et Rotationnel d'un champ vectoriel**"
   ]
  },
  {
   "cell_type": "markdown",
   "metadata": {},
   "source": [
    "## <font color=\"red\">Divergence d'un champ vectoriel</font>"
   ]
  },
  {
   "cell_type": "markdown",
   "metadata": {},
   "source": [
    "La divergence est définie pour un champ vectoriel, pas pour une fonction scalaire à deux variables. Une fonction scalaire à deux variables f(x,y) produit une valeur scalaire unique, tandis qu'un champ vectoriel à deux variables F(x,y) produit un vecteur à deux composantes."
   ]
  },
  {
   "cell_type": "markdown",
   "metadata": {},
   "source": [
    "### Calculer la divergence d'un champ vectoriel à deux dimensions en utilisant SymPy"
   ]
  },
  {
   "cell_type": "code",
   "execution_count": 15,
   "metadata": {},
   "outputs": [],
   "source": [
    "# Importation des modules\n",
    "import numpy as np\n",
    "import sympy as sp\n",
    "import matplotlib.pyplot as plt\n",
    "import plotly.graph_objects as go\n",
    "import plotly.express as px"
   ]
  },
  {
   "cell_type": "code",
   "execution_count": 16,
   "metadata": {},
   "outputs": [],
   "source": [
    "# Créer les symboles x, y, z, t\n",
    "x, y, z, t = sp.symbols('x y z t')"
   ]
  },
  {
   "cell_type": "code",
   "execution_count": 17,
   "metadata": {},
   "outputs": [
    {
     "name": "stdout",
     "output_type": "stream",
     "text": [
      "Divergence de F(x,y) = \n"
     ]
    },
    {
     "data": {
      "text/latex": [
       "$\\displaystyle \\frac{\\partial}{\\partial x} F_{1}{\\left(x,y \\right)} + \\frac{\\partial}{\\partial y} F_{2}{\\left(x,y \\right)}$"
      ],
      "text/plain": [
       "Derivative(F1(x, y), x) + Derivative(F2(x, y), y)"
      ]
     },
     "execution_count": 17,
     "metadata": {},
     "output_type": "execute_result"
    }
   ],
   "source": [
    "# Définir les composantes du champ vectoriel comme des fonctions\n",
    "F1 = sp.Function('F1')(x, y)\n",
    "F2 = sp.Function('F2')(x, y)\n",
    "\n",
    "# Calculer la divergence\n",
    "divergence = sp.diff(F1, x) + sp.diff(F2, y)\n",
    "\n",
    "# Afficher la divergence\n",
    "print(\"Divergence de F(x,y) = \")\n",
    "divergence"
   ]
  },
  {
   "cell_type": "markdown",
   "metadata": {},
   "source": [
    "NB : Le code ci-dessus donne une expression générale pour la divergence. Pour l'utiliser avec un champ vectoriel spécifique, remplacer F1 et F2 par des expressions concrètes."
   ]
  },
  {
   "cell_type": "code",
   "execution_count": 18,
   "metadata": {},
   "outputs": [
    {
     "name": "stdout",
     "output_type": "stream",
     "text": [
      "Divergence de F(x,y) = \n"
     ]
    },
    {
     "data": {
      "text/latex": [
       "$\\displaystyle 3 x$"
      ],
      "text/plain": [
       "3*x"
      ]
     },
     "execution_count": 18,
     "metadata": {},
     "output_type": "execute_result"
    }
   ],
   "source": [
    "# Exemple concret avec le champ vectoriel F(x,y) = (x^2 + y, xy)\n",
    "F1 = x**2 + y\n",
    "F2 = x*y\n",
    "\n",
    "# Calculer la divergence\n",
    "divergence = sp.diff(F1, x) + sp.diff(F2, y)\n",
    "\n",
    "# Afficher la divergence\n",
    "print(\"Divergence de F(x,y) = \")\n",
    "divergence"
   ]
  },
  {
   "cell_type": "markdown",
   "metadata": {},
   "source": [
    "### La signification de la divergence"
   ]
  },
  {
   "cell_type": "markdown",
   "metadata": {},
   "source": [
    "La divergence est un concept fondamental en analyse vectorielle et en physique. Elle mesure le taux auquel le flux d'un champ vectoriel \"diverge\" (s'éloigne) ou \"converge\" (se rapproche) d'un point donné. Voici quelques points clés pour comprendre la divergence :\n",
    "\n",
    "1. **Définition mathématique** :\n",
    "Pour un champ vectoriel F(x, y, z) = (F1, F2, F3) en 3D, la divergence est définie comme : <br>\n",
    "**div F = ∂F1/∂x + ∂F2/∂y + ∂F3/∂z** <br>\n",
    "En 2D, c'est simplement : **div F = ∂F1/∂x + ∂F2/∂y**\n",
    "\n",
    "2. **Interprétation physique** :\n",
    "- Une divergence positive en un point indique que le champ vectoriel s'éloigne de ce point (source).\n",
    "- Une divergence négative indique que le champ vectoriel converge vers ce point (puits).\n",
    "- Une divergence nulle signifie que le flux entrant est égal au flux sortant.\n",
    "\n",
    "\n",
    "3. **Applications** :\n",
    "- En électromagnétisme : La divergence du champ électrique est liée à la distribution de charges (loi de Gauss).\n",
    "- En mécanique des fluides : La divergence de la vitesse d'un fluide indique la présence de sources ou de puits.\n",
    "- En thermodynamique : La divergence du flux de chaleur est liée aux sources ou puits de chaleur.\n",
    "\n",
    "\n",
    "4. **Visualisation** :\n",
    "Imaginez un champ de vitesse d'un fluide. La divergence positive indiquerait une zone où le fluide se répand (comme une source), tandis qu'une divergence négative indiquerait une zone où le fluide se concentre (comme un drain).\n",
    "\n",
    "5. **Théorème de la divergence** :\n",
    "Ce théorème important relie l'intégrale de la divergence sur un volume à l'intégrale du flux à travers la surface entourant ce volume, établissant un lien entre les propriétés locales et globales du champ.\n",
    "\n",
    "6. **Opérateur nabla** :\n",
    "La divergence est souvent écrite comme le produit scalaire de l'opérateur nabla (∇) avec le champ vectoriel : div F = ∇ · F\n",
    "\n",
    "7. **Champs à divergence nulle** :\n",
    "Les champs vectoriels à divergence nulle partout sont appelés \"solénoïdaux\" ou \"incompressibles\". Ils sont importants dans l'étude des fluides incompressibles et des champs magnétiques.\n",
    "\n",
    "La divergence est un outil puissant pour analyser le comportement des champs vectoriels et comprendre de nombreux phénomènes physiques. Elle fait partie des opérateurs différentiels fondamentaux, aux côtés du gradient et du rotationnel."
   ]
  },
  {
   "cell_type": "markdown",
   "metadata": {},
   "source": [
    "### Application de la divergence à un champ électromanétique (champ vectoriel à trois dimensions)"
   ]
  },
  {
   "cell_type": "markdown",
   "metadata": {},
   "source": [
    "Prenons le cas du champ électrique, qui est une partie du champ électromagnétique.\n",
    "Voici comment nous pouvons appliquer le concept de divergence à un champ électrique en utilisant SymPy :"
   ]
  },
  {
   "cell_type": "code",
   "execution_count": 19,
   "metadata": {},
   "outputs": [
    {
     "name": "stdout",
     "output_type": "stream",
     "text": [
      "Divergence du champ électrique E = \n"
     ]
    },
    {
     "data": {
      "text/latex": [
       "$\\displaystyle \\frac{\\partial}{\\partial x} \\operatorname{Ex}{\\left(x,y,z \\right)} + \\frac{\\partial}{\\partial y} \\operatorname{Ey}{\\left(x,y,z \\right)} + \\frac{\\partial}{\\partial z} \\operatorname{Ez}{\\left(x,y,z \\right)}$"
      ],
      "text/plain": [
       "Derivative(Ex(x, y, z), x) + Derivative(Ey(x, y, z), y) + Derivative(Ez(x, y, z), z)"
      ]
     },
     "execution_count": 19,
     "metadata": {},
     "output_type": "execute_result"
    }
   ],
   "source": [
    "# Définir la constante epsilon_0 (permittivité du vide)\n",
    "epsilon_0 = sp.symbols('epsilon_0')\n",
    "\n",
    "# Définir les composantes du champ électrique\n",
    "Ex = sp.Function('Ex')(x, y, z)\n",
    "Ey = sp.Function('Ey')(x, y, z)\n",
    "Ez = sp.Function('Ez')(x, y, z)\n",
    "\n",
    "# Calculer la divergence du champ électrique\n",
    "div_E = sp.diff(Ex, x) + sp.diff(Ey, y) + sp.diff(Ez, z)\n",
    "\n",
    "# Appliquer la loi de Gauss\n",
    "rho = epsilon_0 * div_E\n",
    "\n",
    "print(\"Divergence du champ électrique E = \")\n",
    "div_E"
   ]
  },
  {
   "cell_type": "code",
   "execution_count": 20,
   "metadata": {},
   "outputs": [
    {
     "name": "stdout",
     "output_type": "stream",
     "text": [
      "Densité de charge rho = \n"
     ]
    },
    {
     "data": {
      "text/latex": [
       "$\\displaystyle \\epsilon_{0} \\left(\\frac{\\partial}{\\partial x} \\operatorname{Ex}{\\left(x,y,z \\right)} + \\frac{\\partial}{\\partial y} \\operatorname{Ey}{\\left(x,y,z \\right)} + \\frac{\\partial}{\\partial z} \\operatorname{Ez}{\\left(x,y,z \\right)}\\right)$"
      ],
      "text/plain": [
       "epsilon_0*(Derivative(Ex(x, y, z), x) + Derivative(Ey(x, y, z), y) + Derivative(Ez(x, y, z), z))"
      ]
     },
     "execution_count": 20,
     "metadata": {},
     "output_type": "execute_result"
    }
   ],
   "source": [
    "print(\"Densité de charge rho = \")\n",
    "rho"
   ]
  },
  {
   "cell_type": "markdown",
   "metadata": {},
   "source": [
    "Maintenant, appliquons ceci à un exemple spécifique. Supposons un champ électrique créé par une charge ponctuelle q située à l'origine:"
   ]
  },
  {
   "cell_type": "code",
   "execution_count": 21,
   "metadata": {},
   "outputs": [
    {
     "name": "stdout",
     "output_type": "stream",
     "text": [
      "Divergence du champ électrique d'une charge ponctuelle = \n"
     ]
    },
    {
     "data": {
      "text/latex": [
       "$\\displaystyle 0$"
      ],
      "text/plain": [
       "0"
      ]
     },
     "execution_count": 21,
     "metadata": {},
     "output_type": "execute_result"
    }
   ],
   "source": [
    "# Définir la charge q\n",
    "q = sp.symbols('q')\n",
    "\n",
    "# Champ électrique d'une charge ponctuelle\n",
    "r = sp.sqrt(x**2 + y**2 + z**2) # distance à la charge\n",
    "Ex = q * x / (4 * sp.pi * epsilon_0 * r**3)\n",
    "Ey = q * y / (4 * sp.pi * epsilon_0 * r**3)\n",
    "Ez = q * z / (4 * sp.pi * epsilon_0 * r**3)\n",
    "\n",
    "# Calculer la divergence\n",
    "div_E = sp.simplify(sp.diff(Ex, x) + sp.diff(Ey, y) + sp.diff(Ez, z))\n",
    "\n",
    "print(\"Divergence du champ électrique d'une charge ponctuelle = \")\n",
    "div_E"
   ]
  },
  {
   "cell_type": "markdown",
   "metadata": {},
   "source": [
    "Interprétation des résultats :\n",
    "\n",
    "1. Pour le champ d'une charge ponctuelle, la divergence sera non nulle à l'origine (où se trouve la charge) et nulle partout ailleurs.\n",
    "2. Le résultat devrait ressembler à une fonction delta de Dirac, indiquant que la charge est concentrée en un point.\n",
    "3. Cette divergence non nulle à l'origine correspond à la source du champ électrique (la charge ponctuelle).\n",
    "4. Partout ailleurs, la divergence nulle indique qu'il n'y a pas d'autres sources ou puits de champ électrique.\n",
    "\n",
    "Cette application montre comment la divergence nous permet de localiser les sources de champ électrique et de quantifier leur intensité, ce qui est fondamental en électromagnétisme."
   ]
  },
  {
   "cell_type": "markdown",
   "metadata": {},
   "source": [
    "## <font color=\"red\">Rotationnel d'un champ vectoriel</font>"
   ]
  },
  {
   "cell_type": "markdown",
   "metadata": {},
   "source": [
    "### Rotationnel d'un champ vectoriel en deux dimensions"
   ]
  },
  {
   "cell_type": "markdown",
   "metadata": {},
   "source": [
    " Le rotationnel en 2D est un peu particulier. En effet, le rotationnel d'un champ vectoriel 2D est un scalaire (contrairement au cas 3D où c'est un vecteur)"
   ]
  },
  {
   "cell_type": "code",
   "execution_count": 22,
   "metadata": {},
   "outputs": [
    {
     "name": "stdout",
     "output_type": "stream",
     "text": [
      "Rotationnel de F(x,y) = \n"
     ]
    },
    {
     "data": {
      "text/latex": [
       "$\\displaystyle - \\frac{\\partial}{\\partial y} F_{1}{\\left(x,y \\right)} + \\frac{\\partial}{\\partial x} F_{2}{\\left(x,y \\right)}$"
      ],
      "text/plain": [
       "-Derivative(F1(x, y), y) + Derivative(F2(x, y), x)"
      ]
     },
     "execution_count": 22,
     "metadata": {},
     "output_type": "execute_result"
    }
   ],
   "source": [
    "# Définir les composantes du champ vectoriel comme des fonctions\n",
    "F1 = sp.Function('F1')(x, y)\n",
    "F2 = sp.Function('F2')(x, y)\n",
    "\n",
    "# Calculer le rotationnel en 2D (qui est un scalaire)\n",
    "rot_F = sp.diff(F2, x) - sp.diff(F1, y)\n",
    "\n",
    "print(\"Rotationnel de F(x,y) = \")\n",
    "rot_F"
   ]
  },
  {
   "cell_type": "markdown",
   "metadata": {},
   "source": [
    "Pour utiliser le code ci-dessus avec un champ vectoriel spécifique, remplacer F1 et F2 par des expressions concrètes. Par exemple : F1 = x^2 - y et F2 = x*y + y^2"
   ]
  },
  {
   "cell_type": "code",
   "execution_count": 23,
   "metadata": {},
   "outputs": [
    {
     "name": "stdout",
     "output_type": "stream",
     "text": [
      "Rotationnel de F(x,y) = (x^2 - y, xy + y^2) =\n"
     ]
    },
    {
     "data": {
      "text/latex": [
       "$\\displaystyle y + 1$"
      ],
      "text/plain": [
       "y + 1"
      ]
     },
     "execution_count": 23,
     "metadata": {},
     "output_type": "execute_result"
    }
   ],
   "source": [
    "# Définir un champ vectoriel spécifique\n",
    "F1 = x**2 - y\n",
    "F2 = x*y + y**2\n",
    "\n",
    "# Calculer le rotationnel\n",
    "rot_F = sp.diff(F2, x) - sp.diff(F1, y)\n",
    "\n",
    "print(\"Rotationnel de F(x,y) = (x^2 - y, xy + y^2) =\")\n",
    "rot_F"
   ]
  },
  {
   "cell_type": "markdown",
   "metadata": {},
   "source": [
    "### La signification du rotationnel"
   ]
  },
  {
   "cell_type": "markdown",
   "metadata": {},
   "source": [
    "Le rotationnel est un opérateur différentiel qui mesure la tendance d'un champ vectoriel à tourner autour d'un point. Sa signification physique est riche et importante dans de nombreux domaines de la physique. Voici une explication détaillée :\n",
    "\n",
    "1. **Définition mathématique** :\n",
    "    - En 3D, pour un champ vectoriel F(x, y, z) = (F1, F2, F3), le rotationnel est défini comme : <br>\n",
    "rot F = ∇ × F = (∂F3/∂y - ∂F2/∂z, ∂F1/∂z - ∂F3/∂x, ∂F2/∂x - ∂F1/∂y)\n",
    "    - En 2D, comme nous l'avons vu, c'est un scalaire : rot F = ∂F2/∂x - ∂F1/∂y\n",
    "\n",
    "2. **Interprétation physique** :\n",
    "- Le rotationnel mesure la circulation locale du champ vectoriel autour d'un point.\n",
    "- Il quantifie le \"tourbillonnement\" ou la rotation du champ en chaque point.\n",
    "- Un rotationnel non nul indique que le champ a une composante rotationnelle.\n",
    "\n",
    "\n",
    "3. **Visualisation** :\n",
    "Imaginez un petit moulin à vent placé en un point du champ. Le rotationnel mesurerait la tendance de ce moulin à tourner due au champ vectoriel.\n",
    "\n",
    "4. **Applications en physique** :\n",
    "\n",
    "    4.1. Mécanique des fluides :\n",
    "    - Le rotationnel de la vitesse d'un fluide est égal à deux fois sa vorticité, qui mesure la rotation locale du fluide.\n",
    "    - Un écoulement irrotationnel (rotationnel nul) est important dans l'étude des fluides parfaits.\n",
    "\n",
    "    4.2. Électromagnétisme :\n",
    "    - Le rotationnel du champ électrique E est lié à la variation temporelle du champ magnétique B (loi de Faraday) :\n",
    "∇ × E = -∂B/∂t\n",
    "    - Le rotationnel du champ magnétique B est lié aux courants électriques (loi d'Ampère-Maxwell) :\n",
    "∇ × B = μ₀(J + ε₀ ∂E/∂t)\n",
    "\n",
    "    4.3. Mécanique :\n",
    "    - En mécanique du solide, le rotationnel du champ de déplacement est lié à la rotation locale du matériau.\n",
    "\n",
    "5. **Relation avec le potentiel vecteur** :\n",
    "- En électromagnétisme, le champ magnétique B peut être exprimé comme le rotationnel d'un potentiel vecteur A : B = ∇ × A\n",
    "\n",
    "6. **Signification en 2D vs 3D** :\n",
    "- En 2D, le rotationnel scalaire mesure la rotation autour d'un axe perpendiculaire au plan.\n",
    "- En 3D, le rotationnel vectoriel donne l'axe de rotation locale et son intensité.\n",
    "\n",
    "Le rotationnel est donc un outil puissant pour analyser le comportement rotationnel des champs vectoriels, crucial dans de nombreux domaines de la physique, de l'ingénierie et des mathématiques appliquées."
   ]
  },
  {
   "cell_type": "markdown",
   "metadata": {},
   "source": [
    "## <font color=\"red\">Application de la divergence et du rotationnel en Machine Learning</font>"
   ]
  },
  {
   "cell_type": "markdown",
   "metadata": {},
   "source": [
    "### La divergence en Machine Learning\n",
    "La divergence est moins directement utilisée en machine learning, mais elle apparaît dans certaines architectures de réseaux de neurones, comme les Flux Normalizing. Ces architectures utilisent des opérations de divergence pour normaliser les distributions de probabilité."
   ]
  },
  {
   "cell_type": "code",
   "execution_count": 24,
   "metadata": {},
   "outputs": [
    {
     "name": "stdout",
     "output_type": "stream",
     "text": [
      "Divergence du champ vectoriel = \n"
     ]
    },
    {
     "data": {
      "text/latex": [
       "$\\displaystyle \\frac{\\partial}{\\partial x} F_{1}{\\left(x,y \\right)} + \\frac{\\partial}{\\partial y} F_{2}{\\left(x,y \\right)}$"
      ],
      "text/plain": [
       "Derivative(F1(x, y), x) + Derivative(F2(x, y), y)"
      ]
     },
     "execution_count": 24,
     "metadata": {},
     "output_type": "execute_result"
    }
   ],
   "source": [
    "# Calcul de la divergence dans un modèle de flux\n",
    "\n",
    "# Définir un champ vectoriel simple (pourrait représenter un flux dans un modèle)\n",
    "F1 = sp.Function('F1')(x, y)\n",
    "F2 = sp.Function('F2')(x, y)\n",
    "\n",
    "# Calculer la divergence\n",
    "div = sp.diff(F1, x) + sp.diff(F2, y)\n",
    "\n",
    "print(\"Divergence du champ vectoriel = \")\n",
    "div"
   ]
  },
  {
   "cell_type": "markdown",
   "metadata": {},
   "source": [
    "NB : Cette divergence pourrait être utilisée dans la conception ou l'analyse d'un modèle de flux normalisé."
   ]
  },
  {
   "cell_type": "markdown",
   "metadata": {},
   "source": [
    "### Le rotationnel en Machine Learning\n",
    "Le rotationnel est moins fréquent en machine learning classique, mais il peut apparaître dans certaines applications spécifiques, notamment en traitement d'images ou en analyse de champs vectoriels. Par exemple, le rotationnel d'un champ de vecteurs de gradient pourrait être utilisé pour extraire des caractéristiques rotationnelles d'une image."
   ]
  },
  {
   "cell_type": "code",
   "execution_count": 25,
   "metadata": {},
   "outputs": [
    {
     "name": "stdout",
     "output_type": "stream",
     "text": [
      "Rotationnel du champ de caractéristiques = \n"
     ]
    },
    {
     "data": {
      "text/latex": [
       "$\\displaystyle - \\frac{\\partial}{\\partial y} F_{1}{\\left(x,y \\right)} + \\frac{\\partial}{\\partial x} F_{2}{\\left(x,y \\right)}$"
      ],
      "text/plain": [
       "-Derivative(F1(x, y), y) + Derivative(F2(x, y), x)"
      ]
     },
     "execution_count": 25,
     "metadata": {},
     "output_type": "execute_result"
    }
   ],
   "source": [
    "# Analyse rotationnelle dans un champ de caractéristiques\n",
    "\n",
    "# Définir un champ vectoriel de caractéristiques\n",
    "F1 = sp.Function('F1')(x, y)\n",
    "F2 = sp.Function('F2')(x, y)\n",
    "\n",
    "# Calculer le rotationnel (en 2D, c'est un scalaire)\n",
    "rot = sp.diff(F2, x) - sp.diff(F1, y)\n",
    "\n",
    "print(\"Rotationnel du champ de caractéristiques = \")\n",
    "rot"
   ]
  },
  {
   "cell_type": "markdown",
   "metadata": {},
   "source": [
    "Ce rotationnel pourrait être utilisé pour analyser la rotation locale dans un champ de caractéristiques extraites par un réseau de neurones convolutif.\n",
    "\n",
    "Ces exemples sont simplifiés pour illustrer les concepts. Dans la pratique, ces opérations seraient généralement effectuées sur des tenseurs multidimensionnels avec des bibliothèques optimisées comme TensorFlow ou PyTorch.\n",
    "\n",
    "L'utilisation de ces opérateurs en machine learning permet souvent d'intégrer des connaissances physiques ou géométriques dans les modèles, ce qui peut améliorer leurs performances ou leur interprétabilité."
   ]
  },
  {
   "cell_type": "code",
   "execution_count": null,
   "metadata": {},
   "outputs": [],
   "source": []
  }
 ],
 "metadata": {
  "kernelspec": {
   "display_name": "base",
   "language": "python",
   "name": "python3"
  },
  "language_info": {
   "codemirror_mode": {
    "name": "ipython",
    "version": 3
   },
   "file_extension": ".py",
   "mimetype": "text/x-python",
   "name": "python",
   "nbconvert_exporter": "python",
   "pygments_lexer": "ipython3",
   "version": "3.11.5"
  }
 },
 "nbformat": 4,
 "nbformat_minor": 2
}
