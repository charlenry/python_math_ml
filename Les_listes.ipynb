{
 "cells": [
  {
   "cell_type": "markdown",
   "metadata": {},
   "source": [
    "<p align=\"center\"><font size=\"6\"><b>Notebook de Charles-Henri SAINT-MARS</b></font></p>"
   ]
  },
  {
   "cell_type": "markdown",
   "metadata": {},
   "source": [
    "# **Les listes**"
   ]
  },
  {
   "cell_type": "markdown",
   "metadata": {},
   "source": [
    "### Les noms des variables"
   ]
  },
  {
   "cell_type": "code",
   "execution_count": 48,
   "metadata": {},
   "outputs": [],
   "source": [
    "# Les noms de variables sont case sensitive et peuvent prendre des caractères à accent.\n",
    "# Les noms de variables ne peuvent pas commencer par un chiffre.\n",
    "# Les noms de variables ne peuvent pas contenir d'espace.\n",
    "# Les noms de variables ne peuvent pas contenir de caractères spéciaux comme !, @, #, $, % etc.\n",
    "# Les noms de variables ne peuvent pas contenir de mots réservés.\n",
    "# Les noms de variables doivent être descriptifs.\n",
    "# Les noms de variables doivent être en minuscules.\n",
    "# Les noms de variables peuvent contenir des chiffres (sauf en première position).\n"
   ]
  },
  {
   "cell_type": "code",
   "execution_count": 49,
   "metadata": {},
   "outputs": [
    {
     "data": {
      "text/plain": [
       "'Jean'"
      ]
     },
     "execution_count": 49,
     "metadata": {},
     "output_type": "execute_result"
    }
   ],
   "source": [
    "prénom = \"Jean\"\n",
    "prénom"
   ]
  },
  {
   "cell_type": "code",
   "execution_count": 50,
   "metadata": {},
   "outputs": [
    {
     "data": {
      "text/plain": [
       "'Daniel'"
      ]
     },
     "execution_count": 50,
     "metadata": {},
     "output_type": "execute_result"
    }
   ],
   "source": [
    "Prénom = \"Daniel\"\n",
    "Prénom"
   ]
  },
  {
   "cell_type": "code",
   "execution_count": 51,
   "metadata": {},
   "outputs": [
    {
     "name": "stdout",
     "output_type": "stream",
     "text": [
      "Jean\n",
      "Daniel\n"
     ]
    }
   ],
   "source": [
    "print(prénom)\n",
    "print(Prénom)"
   ]
  },
  {
   "cell_type": "markdown",
   "metadata": {},
   "source": [
    "## Les itérables"
   ]
  },
  {
   "cell_type": "code",
   "execution_count": 52,
   "metadata": {},
   "outputs": [
    {
     "name": "stdout",
     "output_type": "stream",
     "text": [
      "[1, 3.0, 'Hello', <built-in function print>]\n"
     ]
    }
   ],
   "source": [
    "liste = [1, 3.0, \"Hello\", print]\n",
    "print(liste)"
   ]
  },
  {
   "cell_type": "code",
   "execution_count": 53,
   "metadata": {},
   "outputs": [
    {
     "name": "stdout",
     "output_type": "stream",
     "text": [
      "<class 'list'>\n"
     ]
    }
   ],
   "source": [
    "print(type(liste))"
   ]
  },
  {
   "cell_type": "code",
   "execution_count": 54,
   "metadata": {},
   "outputs": [],
   "source": [
    "# Les itérables les plus courants sont les listes, les tuples, les dictionnaires, les sets, les chaînes de caractères, les objets de la fonction range, les objets de la fonction enumerate, les objets de la fonction reversed, les objets de la fonction zip, les objets de la fonction map, les objets de la fonction filter."
   ]
  },
  {
   "cell_type": "code",
   "execution_count": 55,
   "metadata": {},
   "outputs": [],
   "source": [
    "iterator = iter(liste)"
   ]
  },
  {
   "cell_type": "code",
   "execution_count": 56,
   "metadata": {},
   "outputs": [
    {
     "data": {
      "text/plain": [
       "1"
      ]
     },
     "execution_count": 56,
     "metadata": {},
     "output_type": "execute_result"
    }
   ],
   "source": [
    "next(iterator)"
   ]
  },
  {
   "cell_type": "code",
   "execution_count": 57,
   "metadata": {},
   "outputs": [
    {
     "data": {
      "text/plain": [
       "3.0"
      ]
     },
     "execution_count": 57,
     "metadata": {},
     "output_type": "execute_result"
    }
   ],
   "source": [
    "next(iterator)"
   ]
  },
  {
   "cell_type": "code",
   "execution_count": 58,
   "metadata": {},
   "outputs": [
    {
     "data": {
      "text/plain": [
       "'Hello'"
      ]
     },
     "execution_count": 58,
     "metadata": {},
     "output_type": "execute_result"
    }
   ],
   "source": [
    "next(iterator)"
   ]
  },
  {
   "cell_type": "code",
   "execution_count": 59,
   "metadata": {},
   "outputs": [
    {
     "data": {
      "text/plain": [
       "<function print(*args, sep=' ', end='\\n', file=None, flush=False)>"
      ]
     },
     "execution_count": 59,
     "metadata": {},
     "output_type": "execute_result"
    }
   ],
   "source": [
    "next(iterator)"
   ]
  },
  {
   "cell_type": "markdown",
   "metadata": {},
   "source": [
    "### La fonction range()"
   ]
  },
  {
   "cell_type": "markdown",
   "metadata": {},
   "source": [
    "range(10)"
   ]
  },
  {
   "cell_type": "code",
   "execution_count": 60,
   "metadata": {},
   "outputs": [
    {
     "name": "stdout",
     "output_type": "stream",
     "text": [
      "range(0, 10)\n"
     ]
    },
    {
     "data": {
      "text/plain": [
       "[0, 1, 2, 3, 4, 5, 6, 7, 8, 9]"
      ]
     },
     "execution_count": 60,
     "metadata": {},
     "output_type": "execute_result"
    }
   ],
   "source": [
    "print(range(10)) # 0, 1, 2, 3, 4, 5, 6, 7, 8, 9\n",
    "list(range(10)) # [0, 1, 2, 3, 4, 5, 6, 7, 8, 9]\n",
    "# Range permet de mieux gérer la mémoire que list car il ne stocke pas les valeurs en mémoire mais les génère à la volée (comme un générateur)."
   ]
  },
  {
   "cell_type": "code",
   "execution_count": 61,
   "metadata": {},
   "outputs": [
    {
     "name": "stdout",
     "output_type": "stream",
     "text": [
      "0\n",
      "1\n",
      "2\n",
      "3\n",
      "4\n"
     ]
    }
   ],
   "source": [
    "# Pour créer un générateur, on utilise la syntaxe suivante :\n",
    "def generateur():\n",
    "    for i in range(10):\n",
    "        yield i\n",
    "gen = generateur()\n",
    "print(next(gen))\n",
    "print(next(gen))\n",
    "print(next(gen))\n",
    "print(next(gen))\n",
    "print(next(gen))"
   ]
  },
  {
   "cell_type": "code",
   "execution_count": 62,
   "metadata": {},
   "outputs": [
    {
     "name": "stdout",
     "output_type": "stream",
     "text": [
      "0\n",
      "1\n",
      "2\n",
      "3\n",
      "4\n",
      "5\n",
      "6\n",
      "7\n",
      "8\n",
      "9\n"
     ]
    }
   ],
   "source": [
    "ma_range = range(100000000)\n",
    "for i in ma_range:\n",
    "    print(i)\n",
    "    if i >= 9:\n",
    "        break"
   ]
  },
  {
   "cell_type": "markdown",
   "metadata": {},
   "source": [
    "range(1, 10)"
   ]
  },
  {
   "cell_type": "code",
   "execution_count": 63,
   "metadata": {},
   "outputs": [
    {
     "data": {
      "text/plain": [
       "range(1, 10)"
      ]
     },
     "execution_count": 63,
     "metadata": {},
     "output_type": "execute_result"
    }
   ],
   "source": [
    "range(1, 10) # 1, 2, 3, 4, 5, 6, 7, 8, 9\n",
    "# La valeur de départ est 1 et la valeur de fin est 10. La valeur de fin n'est pas incluse dans la liste."
   ]
  },
  {
   "cell_type": "markdown",
   "metadata": {},
   "source": [
    "range(1, 10, 2)"
   ]
  },
  {
   "cell_type": "code",
   "execution_count": 64,
   "metadata": {},
   "outputs": [
    {
     "data": {
      "text/plain": [
       "range(1, 10, 2)"
      ]
     },
     "execution_count": 64,
     "metadata": {},
     "output_type": "execute_result"
    }
   ],
   "source": [
    "range(1, 10, 2) # 1, 3, 5, 7, 9\n",
    "# La valeur de départ est 1, la valeur de fin est 10 et le pas est de 2. On obtient donc les nombres impairs de 1 à 9."
   ]
  },
  {
   "cell_type": "markdown",
   "metadata": {},
   "source": [
    "### La fonction enumerate() "
   ]
  },
  {
   "cell_type": "code",
   "execution_count": 65,
   "metadata": {},
   "outputs": [
    {
     "data": {
      "text/plain": [
       "<enumerate at 0x2913d92fba0>"
      ]
     },
     "execution_count": 65,
     "metadata": {},
     "output_type": "execute_result"
    }
   ],
   "source": [
    "enumerate([\"a\", \"b\", \"c\", \"d\"]) # [(0, \"a\"), (1, \"b\"), (2, \"c\"), (3, \"d\")]\n",
    "# Enumerate permet d'itérer sur une liste en obtenant à chaque fois l'indice et la valeur de l'élément."
   ]
  },
  {
   "cell_type": "code",
   "execution_count": 66,
   "metadata": {},
   "outputs": [
    {
     "name": "stdout",
     "output_type": "stream",
     "text": [
      "L'index est 0 et la valeur est a\n",
      "L'index est 1 et la valeur est b\n",
      "L'index est 2 et la valeur est c\n",
      "L'index est 3 et la valeur est d\n"
     ]
    }
   ],
   "source": [
    "# La fonction enumerate permet de parcourir une liste tout en récupérant l'index de chaque élément.\n",
    "for index, valeur in enumerate([\"a\", \"b\", \"c\", \"d\"]):\n",
    "    print(f\"L'index est {index} et la valeur est {valeur}\")"
   ]
  },
  {
   "cell_type": "code",
   "execution_count": 67,
   "metadata": {},
   "outputs": [
    {
     "name": "stdout",
     "output_type": "stream",
     "text": [
      "(0, 'a')\n",
      "(1, 'b')\n",
      "(2, 'c')\n",
      "(3, 'd')\n"
     ]
    }
   ],
   "source": [
    "for tuple in enumerate([\"a\", \"b\", \"c\", \"d\"]):\n",
    "    print(tuple)"
   ]
  },
  {
   "cell_type": "markdown",
   "metadata": {},
   "source": [
    "### La fonction reversed()"
   ]
  },
  {
   "cell_type": "code",
   "execution_count": 68,
   "metadata": {},
   "outputs": [
    {
     "data": {
      "text/plain": [
       "<list_reverseiterator at 0x2913da409d0>"
      ]
     },
     "execution_count": 68,
     "metadata": {},
     "output_type": "execute_result"
    }
   ],
   "source": [
    "reversed([1, 2, 3, 4, 5]) # 5, 4, 3, 2, 1\n",
    "# reversed permet d'inverser l'ordre des éléments d'une liste sans modifier la liste d'origine (contrairement à la méthode reverse).\n",
    "# Pour ce faire, la fonction reversed crée un itérateur parcourable avec une boucle for."
   ]
  },
  {
   "cell_type": "code",
   "execution_count": 69,
   "metadata": {},
   "outputs": [
    {
     "name": "stdout",
     "output_type": "stream",
     "text": [
      "5\n",
      "4\n",
      "3\n",
      "2\n",
      "1\n"
     ]
    }
   ],
   "source": [
    "for i in reversed([1, 2, 3, 4, 5]):\n",
    "    print(i)"
   ]
  },
  {
   "cell_type": "markdown",
   "metadata": {},
   "source": [
    "### La fontion zip()"
   ]
  },
  {
   "cell_type": "code",
   "execution_count": 70,
   "metadata": {},
   "outputs": [
    {
     "name": "stdout",
     "output_type": "stream",
     "text": [
      "<zip object at 0x000002913E5F8500>\n",
      "\n",
      "Le plat Poisson coûte 18 euros.\n",
      "Le plat Salade coûte 13 euros.\n",
      "Le plat Pizza coûte 24 euros.\n"
     ]
    }
   ],
   "source": [
    "# La fonction zip permet de combiner deux listes en une seule liste de tuples de même index.\n",
    "# Les deux listes doivent avoir la même longueur.\n",
    "plat = [\"Poisson\", \"Salade\", \"Pizza\"]\n",
    "prix = [18, 13, 24]\n",
    "menu = zip(plat, prix) # [(\"Poisson\", 18), (\"Salade\", 13), (\"Pizza\", 24)]\n",
    "print(menu)\n",
    "print(\"\")\n",
    "for plat, prix in menu:\n",
    "    print(f\"Le plat {plat} coûte {prix} euros.\")"
   ]
  },
  {
   "cell_type": "markdown",
   "metadata": {},
   "source": [
    "### Fonction itérable personnalisée à l'aide de la fonction yield (générateur)"
   ]
  },
  {
   "cell_type": "code",
   "execution_count": 71,
   "metadata": {},
   "outputs": [
    {
     "name": "stdout",
     "output_type": "stream",
     "text": [
      "5\n",
      "4\n",
      "3\n",
      "2\n",
      "1\n"
     ]
    }
   ],
   "source": [
    "# Les générateurs permettent de déclarer une fonction qui se comporte comme un itérateur. Ils permettent de générer des valeurs à la volée sans stocker les valeurs en mémoire. On peut les utiliser avec la boucle for ou la fonction next.\n",
    "# Pour créer un générateur, on utilise le mot-clé yield à la place de return.\n",
    "\n",
    "def countdown(n):\n",
    "  while n > 0:\n",
    "    yield n\n",
    "    n -= 1\n",
    "\n",
    "for i in countdown(5):\n",
    "  print(i)"
   ]
  },
  {
   "cell_type": "markdown",
   "metadata": {},
   "source": [
    "## L'indexing et slicing en Python"
   ]
  },
  {
   "cell_type": "markdown",
   "metadata": {},
   "source": [
    "### Indexing négatif"
   ]
  },
  {
   "cell_type": "code",
   "execution_count": 72,
   "metadata": {},
   "outputs": [
    {
     "data": {
      "text/plain": [
       "['a',\n",
       " 'b',\n",
       " 'c',\n",
       " 'd',\n",
       " 'e',\n",
       " 'f',\n",
       " 'g',\n",
       " 'h',\n",
       " 'i',\n",
       " 'j',\n",
       " 'k',\n",
       " 'l',\n",
       " 'm',\n",
       " 'n',\n",
       " 'o',\n",
       " 'p',\n",
       " 'q',\n",
       " 'r',\n",
       " 's',\n",
       " 't',\n",
       " 'u',\n",
       " 'v',\n",
       " 'w',\n",
       " 'x',\n",
       " 'y',\n",
       " 'z']"
      ]
     },
     "execution_count": 72,
     "metadata": {},
     "output_type": "execute_result"
    }
   ],
   "source": [
    "liste = list(\"abcdefghijklmnopqrstuvwxyz\")\n",
    "liste"
   ]
  },
  {
   "cell_type": "code",
   "execution_count": 73,
   "metadata": {},
   "outputs": [
    {
     "data": {
      "text/plain": [
       "'z'"
      ]
     },
     "execution_count": 73,
     "metadata": {},
     "output_type": "execute_result"
    }
   ],
   "source": [
    "min_negatif = liste[-1]\n",
    "min_negatif"
   ]
  },
  {
   "cell_type": "code",
   "execution_count": 74,
   "metadata": {},
   "outputs": [
    {
     "data": {
      "text/plain": [
       "'a'"
      ]
     },
     "execution_count": 74,
     "metadata": {},
     "output_type": "execute_result"
    }
   ],
   "source": [
    "max_negatif = liste[-len(liste)]\n",
    "max_negatif"
   ]
  },
  {
   "cell_type": "code",
   "execution_count": 75,
   "metadata": {},
   "outputs": [
    {
     "data": {
      "text/plain": [
       "'a'"
      ]
     },
     "execution_count": 75,
     "metadata": {},
     "output_type": "execute_result"
    }
   ],
   "source": [
    "min_positif = liste[0]\n",
    "min_positif"
   ]
  },
  {
   "cell_type": "code",
   "execution_count": 76,
   "metadata": {},
   "outputs": [
    {
     "data": {
      "text/plain": [
       "'z'"
      ]
     },
     "execution_count": 76,
     "metadata": {},
     "output_type": "execute_result"
    }
   ],
   "source": [
    "max_positif = liste[len(liste) - 1]\n",
    "max_positif"
   ]
  },
  {
   "cell_type": "markdown",
   "metadata": {},
   "source": [
    "### Le slicing"
   ]
  },
  {
   "cell_type": "code",
   "execution_count": 77,
   "metadata": {},
   "outputs": [
    {
     "data": {
      "text/plain": [
       "['a',\n",
       " 'b',\n",
       " 'c',\n",
       " 'd',\n",
       " 'e',\n",
       " 'f',\n",
       " 'g',\n",
       " 'h',\n",
       " 'i',\n",
       " 'j',\n",
       " 'k',\n",
       " 'l',\n",
       " 'm',\n",
       " 'n',\n",
       " 'o',\n",
       " 'p',\n",
       " 'q',\n",
       " 'r',\n",
       " 's',\n",
       " 't',\n",
       " 'u',\n",
       " 'v',\n",
       " 'w',\n",
       " 'x',\n",
       " 'y',\n",
       " 'z']"
      ]
     },
     "execution_count": 77,
     "metadata": {},
     "output_type": "execute_result"
    }
   ],
   "source": [
    "liste[:]"
   ]
  },
  {
   "cell_type": "code",
   "execution_count": 78,
   "metadata": {},
   "outputs": [
    {
     "data": {
      "text/plain": [
       "['a', 'b', 'c', 'd', 'e', 'f', 'g', 'h', 'i', 'j']"
      ]
     },
     "execution_count": 78,
     "metadata": {},
     "output_type": "execute_result"
    }
   ],
   "source": [
    "liste[:10] # Les 10 premiers éléments.  10 est un index exclusif."
   ]
  },
  {
   "cell_type": "code",
   "execution_count": 79,
   "metadata": {},
   "outputs": [
    {
     "data": {
      "text/plain": [
       "['k',\n",
       " 'l',\n",
       " 'm',\n",
       " 'n',\n",
       " 'o',\n",
       " 'p',\n",
       " 'q',\n",
       " 'r',\n",
       " 's',\n",
       " 't',\n",
       " 'u',\n",
       " 'v',\n",
       " 'w',\n",
       " 'x',\n",
       " 'y',\n",
       " 'z']"
      ]
     },
     "execution_count": 79,
     "metadata": {},
     "output_type": "execute_result"
    }
   ],
   "source": [
    "liste[10:] # Les éléments à partir de l'index 10. 10 est un index inclusif."
   ]
  },
  {
   "cell_type": "code",
   "execution_count": 80,
   "metadata": {},
   "outputs": [
    {
     "data": {
      "text/plain": [
       "['w', 'x']"
      ]
     },
     "execution_count": 80,
     "metadata": {},
     "output_type": "execute_result"
    }
   ],
   "source": [
    "liste[-4:-2 ]"
   ]
  },
  {
   "cell_type": "markdown",
   "metadata": {},
   "source": [
    "### Le Reverse Slicing"
   ]
  },
  {
   "cell_type": "code",
   "execution_count": 81,
   "metadata": {},
   "outputs": [
    {
     "data": {
      "text/plain": [
       "['z',\n",
       " 'y',\n",
       " 'x',\n",
       " 'w',\n",
       " 'v',\n",
       " 'u',\n",
       " 't',\n",
       " 's',\n",
       " 'r',\n",
       " 'q',\n",
       " 'p',\n",
       " 'o',\n",
       " 'n',\n",
       " 'm',\n",
       " 'l',\n",
       " 'k',\n",
       " 'j',\n",
       " 'i',\n",
       " 'h',\n",
       " 'g',\n",
       " 'f',\n",
       " 'e',\n",
       " 'd',\n",
       " 'c',\n",
       " 'b',\n",
       " 'a']"
      ]
     },
     "execution_count": 81,
     "metadata": {},
     "output_type": "execute_result"
    }
   ],
   "source": [
    "liste[::-1] # Inverse la liste"
   ]
  },
  {
   "cell_type": "code",
   "execution_count": 82,
   "metadata": {},
   "outputs": [
    {
     "name": "stdout",
     "output_type": "stream",
     "text": [
      "tri en ordre croissant :  ['A', 'B', 'C', 'D', 'E', 'F', 'G', 'H', 'I', 'J', 'K', 'L']\n",
      "tri en ordre décroissant :  ['L', 'K', 'J', 'I', 'H', 'G', 'F', 'E', 'D', 'C', 'B', 'A']\n",
      "tri en ordre décroissant avec la méthode reverse() :  ['L', 'K', 'J', 'I', 'H', 'G', 'F', 'E', 'D', 'C', 'B', 'A']\n"
     ]
    }
   ],
   "source": [
    "liste_non_ordonnee = list(\"ACGDBFEIHJLK\")\n",
    "liste_non_ordonnee.sort() # sort() modifie la liste d'origine.\n",
    "print(\"tri en ordre croissant : \", liste_non_ordonnee)\n",
    "liste_non_ordonnee = liste_non_ordonnee[::-1] # liste_non_ordonnee[::-1] ne modifie pas la liste d'origine.\n",
    "print(\"tri en ordre décroissant : \", liste_non_ordonnee)\n",
    "liste_non_ordonnee.sort()\n",
    "liste_non_ordonnee.reverse() # reverse() modifie la liste d'origine.\n",
    "print(\"tri en ordre décroissant avec la méthode reverse() : \", liste_non_ordonnee)"
   ]
  },
  {
   "cell_type": "code",
   "execution_count": 83,
   "metadata": {},
   "outputs": [
    {
     "data": {
      "text/plain": [
       "['A', 'B', 'C', 'D', 'E', 'F', 'G']"
      ]
     },
     "execution_count": 83,
     "metadata": {},
     "output_type": "execute_result"
    }
   ],
   "source": [
    "liste_reduite = list(\"ABCDEFG\")\n",
    "liste_reduite"
   ]
  },
  {
   "cell_type": "code",
   "execution_count": 84,
   "metadata": {},
   "outputs": [
    {
     "data": {
      "text/plain": [
       "[]"
      ]
     },
     "execution_count": 84,
     "metadata": {},
     "output_type": "execute_result"
    }
   ],
   "source": [
    "# Dans le sclicing, l'index de début doit être inférieur à l'index de fin.\n",
    "liste_reduite[2:5] # C, D, E\n",
    "liste_reduite[5:2] # Rien, []\n",
    "\n",
    "# Dans le reverse slicing, l'index de début doit être supérieur à l'index de fin (à utiliser avec parcimonie).\n",
    "liste_reduite[5:2:-1] # E, D, C\n",
    "liste_reduite[5:2:-2] # E, C\n",
    "liste_reduite[2:5:-1] # Rien, []"
   ]
  },
  {
   "cell_type": "code",
   "execution_count": 85,
   "metadata": {},
   "outputs": [
    {
     "data": {
      "text/plain": [
       "['A', 'G']"
      ]
     },
     "execution_count": 85,
     "metadata": {},
     "output_type": "execute_result"
    }
   ],
   "source": [
    "liste_reduite[1:-1] # B, C, D, E, F\n",
    "liste_reduite[1:-1] = [] # On supprime les éléments de la liste.\n",
    "liste_reduite"
   ]
  },
  {
   "cell_type": "code",
   "execution_count": 86,
   "metadata": {},
   "outputs": [
    {
     "data": {
      "text/plain": [
       "['A', 'B', 'C', 'D', 'E', 'F', 'G']"
      ]
     },
     "execution_count": 86,
     "metadata": {},
     "output_type": "execute_result"
    }
   ],
   "source": [
    "liste_reduite[1:1] = [\"B\", \"C\", \"D\", \"E\", \"F\"] # On insert les éléments à la liste.\n",
    "liste_reduite"
   ]
  },
  {
   "cell_type": "markdown",
   "metadata": {},
   "source": [
    "### Les List Comprehensions (listes en compréhension)"
   ]
  },
  {
   "cell_type": "code",
   "execution_count": 87,
   "metadata": {},
   "outputs": [],
   "source": [
    "# Les list comprehension permettent de créer des listes à la volée."
   ]
  },
  {
   "cell_type": "code",
   "execution_count": 88,
   "metadata": {},
   "outputs": [
    {
     "name": "stdout",
     "output_type": "stream",
     "text": [
      "[0, 2, 4, 6, 8, 10, 12, 14, 16, 18]\n"
     ]
    }
   ],
   "source": [
    "# Créer une liste à la volée avec une boucle for.\n",
    "liste_à_la_volée = []\n",
    "for i in range(20):\n",
    "    if i % 2 == 0:\n",
    "      liste_à_la_volée.append(i)\n",
    "print(liste_à_la_volée)"
   ]
  },
  {
   "cell_type": "code",
   "execution_count": 89,
   "metadata": {},
   "outputs": [
    {
     "name": "stdout",
     "output_type": "stream",
     "text": [
      "[0, 2, 4, 6, 8, 10, 12, 14, 16, 18]\n"
     ]
    }
   ],
   "source": [
    "# Créer une liste à la volée avec une list comprehension.\n",
    "liste_à_la_volée = [i for i in range(20) if i % 2 == 0]\n",
    "print(liste_à_la_volée)"
   ]
  },
  {
   "cell_type": "code",
   "execution_count": 90,
   "metadata": {},
   "outputs": [
    {
     "name": "stdout",
     "output_type": "stream",
     "text": [
      "[0, 4, 16, 36, 64, 100, 144, 196, 256, 324]\n"
     ]
    }
   ],
   "source": [
    "liste_des_carrés = [i**2 for i in range(20) if i % 2 == 0]\n",
    "print(liste_des_carrés)"
   ]
  },
  {
   "cell_type": "code",
   "execution_count": 91,
   "metadata": {},
   "outputs": [
    {
     "name": "stdout",
     "output_type": "stream",
     "text": [
      "[0, 2, 4, 6, 8, 10, 12, 14, 16, 18]\n"
     ]
    }
   ],
   "source": [
    "import math\n",
    "liste_des_racines_carrées = [int(math.sqrt(i)) for i in liste_des_carrés]\n",
    "print(liste_des_racines_carrées)"
   ]
  },
  {
   "cell_type": "code",
   "execution_count": 92,
   "metadata": {},
   "outputs": [
    {
     "name": "stdout",
     "output_type": "stream",
     "text": [
      "['tic', 'tac', 'toe']\n"
     ]
    }
   ],
   "source": [
    "# Créer une liste list comprehension avec un tuple.\n",
    "liste = [i for i in (\"tic\", \"tac\", \"toe\")]\n",
    "print(liste)"
   ]
  },
  {
   "cell_type": "code",
   "execution_count": 93,
   "metadata": {},
   "outputs": [
    {
     "name": "stdout",
     "output_type": "stream",
     "text": [
      "['Ho', 'Ho', 'Ho']\n"
     ]
    }
   ],
   "source": [
    "# Underscore dans une boucle for\n",
    "liste = []\n",
    "for _ in range(3):\n",
    "  liste.append(\"Ho\")\n",
    "print(liste)"
   ]
  },
  {
   "cell_type": "markdown",
   "metadata": {},
   "source": [
    "## Les tableaux à plusieurs dimensions"
   ]
  },
  {
   "cell_type": "code",
   "execution_count": 94,
   "metadata": {},
   "outputs": [
    {
     "data": {
      "text/plain": [
       "[1, 2, 3, 4, 5, 6, 7, 8, 9]"
      ]
     },
     "execution_count": 94,
     "metadata": {},
     "output_type": "execute_result"
    }
   ],
   "source": [
    "# Tableau à une dimension ou VECTEUR (une liste).\n",
    "tableau_1dim = [1, 2, 3, 4, 5, 6, 7, 8, 9]\n",
    "tableau_1dim"
   ]
  },
  {
   "cell_type": "code",
   "execution_count": 95,
   "metadata": {},
   "outputs": [
    {
     "data": {
      "text/plain": [
       "8"
      ]
     },
     "execution_count": 95,
     "metadata": {},
     "output_type": "execute_result"
    }
   ],
   "source": [
    "# Accéder à un élément du tableau.\n",
    "tableau_1dim[7] # 8"
   ]
  },
  {
   "cell_type": "code",
   "execution_count": 96,
   "metadata": {},
   "outputs": [
    {
     "data": {
      "text/plain": [
       "[[1, 2, 3], [4, 5, 6], [7, 8, 9]]"
      ]
     },
     "execution_count": 96,
     "metadata": {},
     "output_type": "execute_result"
    }
   ],
   "source": [
    "# Tableau à deux dimensions ou MATRICE (une liste de listes).\n",
    "tableau_2dim = [[1, 2, 3], \n",
    "                [4, 5, 6], \n",
    "                [7, 8, 9]]\n",
    "tableau_2dim"
   ]
  },
  {
   "cell_type": "code",
   "execution_count": 97,
   "metadata": {},
   "outputs": [
    {
     "data": {
      "text/plain": [
       "8"
      ]
     },
     "execution_count": 97,
     "metadata": {},
     "output_type": "execute_result"
    }
   ],
   "source": [
    "# Accéder à un élément du tableau.\n",
    "tableau_2dim[2][1] # 8"
   ]
  },
  {
   "cell_type": "code",
   "execution_count": 98,
   "metadata": {},
   "outputs": [],
   "source": [
    "# Tableau à trois dimensions ou TENSEUR (une liste de listes de listes).\n",
    "# Un tenseur est un tableau à trois dimensions et plus.\n",
    "# Un tableau à trois dimensions est aussi appelé un cube.\n",
    "cube = [[[0, 1, 2], \n",
    "         [2, 3, 4]], \n",
    "        [[6, 8, 2], \n",
    "         [5, 9, 4]]]"
   ]
  },
  {
   "cell_type": "code",
   "execution_count": 99,
   "metadata": {},
   "outputs": [
    {
     "data": {
      "text/plain": [
       "8"
      ]
     },
     "execution_count": 99,
     "metadata": {},
     "output_type": "execute_result"
    }
   ],
   "source": [
    "# Accéder à un élément du cube.\n",
    "cube[1][0][1] # 8"
   ]
  },
  {
   "cell_type": "markdown",
   "metadata": {},
   "source": [
    "<img src=\"cube_matriciel.jpg\" />"
   ]
  },
  {
   "cell_type": "code",
   "execution_count": 100,
   "metadata": {},
   "outputs": [
    {
     "data": {
      "text/plain": [
       "[0, 0, 0]"
      ]
     },
     "execution_count": 100,
     "metadata": {},
     "output_type": "execute_result"
    }
   ],
   "source": [
    "test = [0] * 3\n",
    "test"
   ]
  },
  {
   "cell_type": "code",
   "execution_count": 101,
   "metadata": {},
   "outputs": [
    {
     "data": {
      "text/plain": [
       "[[['Z', 'Z', 'Z'], ['Z', 'Z', 'Z'], ['Z', 'Z', 'Z']],\n",
       " [['Z', 'Z', 'Z'], ['Z', 'Z', 'Z'], ['Z', 'Z', 'Z']],\n",
       " [['Z', 'Z', 'Z'], ['Z', 'Z', 'Z'], ['Z', 'Z', 'Z']]]"
      ]
     },
     "execution_count": 101,
     "metadata": {},
     "output_type": "execute_result"
    }
   ],
   "source": [
    "C = 3\n",
    "TENSEUR = [[['Z'] * C for _ in range(C)] for _ in range(C)]\n",
    "TENSEUR"
   ]
  },
  {
   "cell_type": "code",
   "execution_count": 102,
   "metadata": {},
   "outputs": [
    {
     "data": {
      "text/plain": [
       "[[['A', 'Z', 'Z'], ['Z', 'Z', 'Z'], ['Z', 'Z', 'Z']],\n",
       " [['Z', 'Z', 'Z'], ['A', 'Z', 'Z'], ['Z', 'Z', 'Z']],\n",
       " [['Z', 'Z', 'Z'], ['Z', 'Z', 'Z'], ['A', 'Z', 'Z']]]"
      ]
     },
     "execution_count": 102,
     "metadata": {},
     "output_type": "execute_result"
    }
   ],
   "source": [
    "TENSEUR[0][0][0] = 'A'\n",
    "TENSEUR[1][1][0] = 'A'\n",
    "TENSEUR[2][2][0] = 'A'\n",
    "TENSEUR"
   ]
  },
  {
   "cell_type": "code",
   "execution_count": 103,
   "metadata": {},
   "outputs": [
    {
     "data": {
      "text/plain": [
       "[[['A', 'Z', 'Z'], ['Z', 'Z', 'Z'], ['Z', 'Z', 'Z']],\n",
       " [['Z', 'Z', 'Z'], ['A', 'Z', 'Z'], ['Z', 'Z', 'Z']],\n",
       " [['Z', 'Z', 'Z'], ['Z', 'Z', 'Z'], ['A', 'Z', 'Z']]]"
      ]
     },
     "execution_count": 103,
     "metadata": {},
     "output_type": "execute_result"
    }
   ],
   "source": [
    "C = 3\n",
    "TENSEUR = [[['Z'] * C for _ in range(C)] for _ in range(C)]\n",
    "\n",
    "for i in range(C):\n",
    "  TENSEUR[i][i][0] = 'A'\n",
    "TENSEUR"
   ]
  },
  {
   "cell_type": "code",
   "execution_count": 104,
   "metadata": {},
   "outputs": [
    {
     "data": {
      "text/plain": [
       "[[['Z', 'Z', 'A'], ['Z', 'Z', 'Z'], ['Z', 'Z', 'Z']],\n",
       " [['Z', 'Z', 'Z'], ['Z', 'A', 'Z'], ['Z', 'Z', 'Z']],\n",
       " [['Z', 'Z', 'Z'], ['Z', 'Z', 'Z'], ['A', 'Z', 'Z']]]"
      ]
     },
     "execution_count": 104,
     "metadata": {},
     "output_type": "execute_result"
    }
   ],
   "source": [
    "C = 3\n",
    "TENSEUR = [[['Z'] * C for _ in range(C)] for _ in range(C)]\n",
    "\n",
    "TENSEUR[0][0][-1] = 'A'\n",
    "TENSEUR[1][1][-2] = 'A'\n",
    "TENSEUR[2][2][-3] = 'A'\n",
    "TENSEUR"
   ]
  },
  {
   "cell_type": "code",
   "execution_count": 105,
   "metadata": {},
   "outputs": [
    {
     "data": {
      "text/plain": [
       "[[['Z', 'Z', 'A'], ['Z', 'Z', 'Z'], ['Z', 'Z', 'Z']],\n",
       " [['Z', 'Z', 'Z'], ['Z', 'A', 'Z'], ['Z', 'Z', 'Z']],\n",
       " [['Z', 'Z', 'Z'], ['Z', 'Z', 'Z'], ['A', 'Z', 'Z']]]"
      ]
     },
     "execution_count": 105,
     "metadata": {},
     "output_type": "execute_result"
    }
   ],
   "source": [
    "C = 3\n",
    "TENSEUR = [[['Z'] * C for _ in range(C)] for _ in range(C)]\n",
    "\n",
    "for i in range(C):\n",
    "  TENSEUR[i][i][-(i+1)] = 'A'\n",
    "TENSEUR"
   ]
  },
  {
   "cell_type": "code",
   "execution_count": 106,
   "metadata": {},
   "outputs": [
    {
     "data": {
      "text/plain": [
       "[[[0, 1, 2], [3, 4, 5], [6, 7, 8]],\n",
       " [[9, 10, 11], [12, 13, 14], [15, 16, 17]],\n",
       " [[18, 19, 20], [21, 22, 23], [24, 25, 26]]]"
      ]
     },
     "execution_count": 106,
     "metadata": {},
     "output_type": "execute_result"
    }
   ],
   "source": [
    "C = 3\n",
    "TENSEUR = [[['Z'] * C for _ in range(C)] for _ in range(C)]\n",
    "\n",
    "compteur = 0\n",
    "for i in range(3):\n",
    "  for j in range(3):\n",
    "    for k in range(3):\n",
    "      TENSEUR[i][j][k] = compteur\n",
    "      compteur += 1\n",
    "TENSEUR"
   ]
  },
  {
   "cell_type": "code",
   "execution_count": 107,
   "metadata": {},
   "outputs": [
    {
     "data": {
      "text/plain": [
       "[[['Z', 'Z', 6], ['Z', 'Z', 7], ['Z', 'Z', 8]],\n",
       " [['Z', 3, 'Z'], ['Z', 4, 'Z'], ['Z', 5, 'Z']],\n",
       " [[0, 'Z', 'Z'], [1, 'Z', 'Z'], [2, 'Z', 'Z']]]"
      ]
     },
     "execution_count": 107,
     "metadata": {},
     "output_type": "execute_result"
    }
   ],
   "source": [
    "C = 3\n",
    "TENSEUR = [[['Z'] * C for _ in range(C)] for _ in range(C)]\n",
    "\n",
    "compteur = 0\n",
    "for i in range(3):\n",
    "  for j in range(3):\n",
    "    k = i\n",
    "    TENSEUR[-(i+1)][j][k] = compteur\n",
    "    compteur += 1\n",
    "TENSEUR"
   ]
  },
  {
   "cell_type": "code",
   "execution_count": 108,
   "metadata": {},
   "outputs": [
    {
     "data": {
      "text/plain": [
       "[[['Z', 'Z', 6], ['Z', 7, 'Z'], [8, 'Z', 'Z']],\n",
       " [['Z', 3, 'Z'], [4, 'Z', 'Z'], ['Z', 'Z', 5]],\n",
       " [[0, 'Z', 'Z'], ['Z', 'Z', 1], ['Z', 2, 'Z']]]"
      ]
     },
     "execution_count": 108,
     "metadata": {},
     "output_type": "execute_result"
    }
   ],
   "source": [
    "C = 3\n",
    "TENSEUR = [[['Z'] * C for _ in range(C)] for _ in range(C)]\n",
    "\n",
    "compteur = 0\n",
    "for i in range(3):\n",
    "  for j in range(3):\n",
    "    k = (i - j) % 3\n",
    "    TENSEUR[-(i+1)][j][k] = compteur\n",
    "    compteur += 1\n",
    "TENSEUR"
   ]
  },
  {
   "cell_type": "markdown",
   "metadata": {},
   "source": [
    "### Exos sur les matrices 2D"
   ]
  },
  {
   "cell_type": "code",
   "execution_count": 109,
   "metadata": {},
   "outputs": [
    {
     "data": {
      "text/plain": [
       "[['Z', 'Z', 'Z'], ['Z', 'Z', 'Z'], ['Z', 'Z', 'Z']]"
      ]
     },
     "execution_count": 109,
     "metadata": {},
     "output_type": "execute_result"
    }
   ],
   "source": [
    "C = 3\n",
    "TENSEUR = [['Z'] * C for _ in range(C)]\n",
    "TENSEUR"
   ]
  },
  {
   "cell_type": "code",
   "execution_count": 110,
   "metadata": {},
   "outputs": [
    {
     "data": {
      "text/plain": [
       "[[1, 2, 3], [4, 5, 6], [7, 8, 9]]"
      ]
     },
     "execution_count": 110,
     "metadata": {},
     "output_type": "execute_result"
    }
   ],
   "source": [
    "# On veut obtenir la matrice suivante : [[1, 2, 3], [4, 5, 6], [7, 8, 9]]\n",
    "cpt = 1\n",
    "for i in range(3):\n",
    "  for j in range(3):\n",
    "    TENSEUR[i][j] = cpt\n",
    "    cpt += 1\n",
    "TENSEUR"
   ]
  },
  {
   "cell_type": "code",
   "execution_count": 111,
   "metadata": {},
   "outputs": [
    {
     "data": {
      "text/plain": [
       "[[1, 4, 7], [2, 5, 8], [3, 6, 9]]"
      ]
     },
     "execution_count": 111,
     "metadata": {},
     "output_type": "execute_result"
    }
   ],
   "source": [
    "# On veut obtenir la matrice suivante : [[1, 4, 7], [2, 5, 8], [3, 6, 9]]\n",
    "C = 3\n",
    "TENSEUR = [['Z'] * C for _ in range(C)]\n",
    "\n",
    "cpt = 1\n",
    "for i in range(3):\n",
    "  if i == 1 and cpt == 10:\n",
    "      cpt = 2\n",
    "  if i == 2 and cpt == 11:\n",
    "      cpt = 3\n",
    "  for j in range(3):\n",
    "    TENSEUR[i][j] = cpt\n",
    "    breakpoint()\n",
    "    cpt += 3\n",
    "TENSEUR"
   ]
  },
  {
   "cell_type": "code",
   "execution_count": 112,
   "metadata": {},
   "outputs": [
    {
     "data": {
      "text/plain": [
       "[[7, 4, 1], [8, 5, 2], [9, 6, 3]]"
      ]
     },
     "execution_count": 112,
     "metadata": {},
     "output_type": "execute_result"
    }
   ],
   "source": [
    "# On veut obtenir la matrice suivante à partir du tenseur donné ci-dessous : [[7, 4, 1], [5, 2, 8], [3, 9, 6]]\n",
    "C = 3\n",
    "TENSEUR = [['Z'] * C for _ in range(C)]\n",
    "\n",
    "cpt = 1\n",
    "for i in range(3):\n",
    "  if i == 1 and cpt == 10:\n",
    "      cpt = 2\n",
    "  if i == 2 and cpt == 11:\n",
    "      cpt = 3\n",
    "  for j in range(3):\n",
    "    TENSEUR[i][-(j+1)] = cpt\n",
    "    breakpoint()\n",
    "    cpt += 3\n",
    "TENSEUR\n",
    "# à revoir\n"
   ]
  },
  {
   "cell_type": "code",
   "execution_count": null,
   "metadata": {},
   "outputs": [],
   "source": []
  }
 ],
 "metadata": {
  "kernelspec": {
   "display_name": "base",
   "language": "python",
   "name": "python3"
  },
  "language_info": {
   "codemirror_mode": {
    "name": "ipython",
    "version": 3
   },
   "file_extension": ".py",
   "mimetype": "text/x-python",
   "name": "python",
   "nbconvert_exporter": "python",
   "pygments_lexer": "ipython3",
   "version": "3.11.5"
  }
 },
 "nbformat": 4,
 "nbformat_minor": 2
}
